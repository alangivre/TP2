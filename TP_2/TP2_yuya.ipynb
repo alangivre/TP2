{
 "cells": [
  {
   "cell_type": "markdown",
   "metadata": {},
   "source": [
    "Trabajo Practico 2"
   ]
  },
  {
   "cell_type": "code",
   "execution_count": 1,
   "metadata": {},
   "outputs": [],
   "source": [
    "import networkx as nx\n",
    "import pandas as pd\n",
    "import matplotlib.pyplot as plt\n",
    "import matplotlib.colors\n",
    "import numpy as np\n",
    "from  collections  import defaultdict\n",
    "from scipy import optimize\n",
    "import os\n",
    "from lectura import ldata\n",
    "from math import log"
   ]
  },
  {
   "cell_type": "code",
   "execution_count": 2,
   "metadata": {},
   "outputs": [],
   "source": [
    "# Red de interacciones binarias(yeast_Y2H.txt)\n",
    "# Red de copertenecia o complejos proteícos(yeast_AP-MS.txt)\n",
    "# Red obtenida de literatura: Yeast Interactome Database(yeast_LIT.txt)"
   ]
  },
  {
   "cell_type": "code",
   "execution_count": 3,
   "metadata": {},
   "outputs": [],
   "source": [
    "# El directorio que vamos a usar en cada lectura de datos de ahora en mas\n",
    "directorio = os.path.dirname(os.path.realpath(\"yeast_AP-MS.txt\"))"
   ]
  },
  {
   "cell_type": "code",
   "execution_count": 4,
   "metadata": {},
   "outputs": [],
   "source": [
    "fnMS = os.path.join(directorio,'tc02Data/yeast_AP-MS.txt')\n",
    "fnLIT = os.path.join(directorio,'tc02Data/yeast_LIT.txt')\n",
    "fnY2H = os.path.join(directorio,'tc02Data/yeast_Y2H.txt')\n",
    "fnLIT_reg = os.path.join(directorio,'tc02Data/yeast_LIT_Reguly.txt')\n",
    "\n",
    "# Lectura de datos\n",
    "datosapms=ldata(fnMS)\n",
    "datoslit=ldata(fnLIT)\n",
    "datosy2h=ldata(fnY2H)\n",
    "datoslit_reg=ldata(fnLIT_reg)\n",
    "datoslit_reg=[row[0:2] for row in datoslit_reg][1:]\n"
   ]
  },
  {
   "cell_type": "code",
   "execution_count": 5,
   "metadata": {},
   "outputs": [],
   "source": [
    "G1 = nx.Graph()\n",
    "G2 = nx.Graph()\n",
    "G3 = nx.Graph()\n",
    "G4 = nx.Graph()\n",
    "\n",
    "G1.add_edges_from(datosapms)\n",
    "G2.add_edges_from(datoslit)\n",
    "G3.add_edges_from(datosy2h)\n",
    "G4.add_edges_from(datoslit_reg)\n",
    "\n"
   ]
  },
  {
   "cell_type": "code",
   "execution_count": 6,
   "metadata": {},
   "outputs": [],
   "source": [
    "# Características de las redes\n",
    "\n",
    "# Numero total de nodos\n",
    "N = [G1.number_of_nodes(),G2.number_of_nodes(),G3.number_of_nodes(),G4.number_of_nodes()]\n",
    "\n",
    "# Numero total de enlaces\n",
    "L = [G1.number_of_edges(),G2.number_of_edges(),G3.number_of_edges(),G4.number_of_edges()]\n",
    "\n",
    "# Grado medio\n",
    "kmean = [np.mean(list(dict(G1.degree).values())),np.mean(list(dict(G2.degree).values())),\n",
    "         np.mean(list(dict(G3.degree).values())),\n",
    "         np.mean(list(dict(G4.degree).values()))]\n",
    "\n",
    "# Coeficiente de clustering local\n",
    "clusteringlocal = [nx.average_clustering(G1),nx.average_clustering(G2),nx.average_clustering(G3),nx.average_clustering(G4)]\n"
   ]
  },
  {
   "cell_type": "code",
   "execution_count": 7,
   "metadata": {},
   "outputs": [],
   "source": [
    "# Tabla con las caraterísticas de las redes\n",
    "info= pd.DataFrame({\"ID\":['apms','YID_lit','y2h','lit_reg'],\"nodos\":N,\"enlaces\":L,\"kmean\":kmean,\n",
    "                    \"clusteringlocal\":clusteringlocal})"
   ]
  },
  {
   "cell_type": "code",
   "execution_count": null,
   "metadata": {},
   "outputs": [],
   "source": []
  },
  {
   "cell_type": "code",
   "execution_count": 8,
   "metadata": {},
   "outputs": [
    {
     "data": {
      "text/html": [
       "<div>\n",
       "<style scoped>\n",
       "    .dataframe tbody tr th:only-of-type {\n",
       "        vertical-align: middle;\n",
       "    }\n",
       "\n",
       "    .dataframe tbody tr th {\n",
       "        vertical-align: top;\n",
       "    }\n",
       "\n",
       "    .dataframe thead th {\n",
       "        text-align: right;\n",
       "    }\n",
       "</style>\n",
       "<table border=\"1\" class=\"dataframe\">\n",
       "  <thead>\n",
       "    <tr style=\"text-align: right;\">\n",
       "      <th></th>\n",
       "      <th>ID</th>\n",
       "      <th>clusteringlocal</th>\n",
       "      <th>enlaces</th>\n",
       "      <th>kmean</th>\n",
       "      <th>nodos</th>\n",
       "    </tr>\n",
       "  </thead>\n",
       "  <tbody>\n",
       "    <tr>\n",
       "      <th>0</th>\n",
       "      <td>apms</td>\n",
       "      <td>0.554636</td>\n",
       "      <td>9070</td>\n",
       "      <td>11.183724</td>\n",
       "      <td>1622</td>\n",
       "    </tr>\n",
       "    <tr>\n",
       "      <th>1</th>\n",
       "      <td>YID_lit</td>\n",
       "      <td>0.292492</td>\n",
       "      <td>2925</td>\n",
       "      <td>3.808594</td>\n",
       "      <td>1536</td>\n",
       "    </tr>\n",
       "    <tr>\n",
       "      <th>2</th>\n",
       "      <td>y2h</td>\n",
       "      <td>0.046194</td>\n",
       "      <td>2930</td>\n",
       "      <td>2.903865</td>\n",
       "      <td>2018</td>\n",
       "    </tr>\n",
       "    <tr>\n",
       "      <th>3</th>\n",
       "      <td>lit_reg</td>\n",
       "      <td>0.261134</td>\n",
       "      <td>11858</td>\n",
       "      <td>7.171454</td>\n",
       "      <td>3307</td>\n",
       "    </tr>\n",
       "  </tbody>\n",
       "</table>\n",
       "</div>"
      ],
      "text/plain": [
       "        ID  clusteringlocal  enlaces      kmean  nodos\n",
       "0     apms         0.554636     9070  11.183724   1622\n",
       "1  YID_lit         0.292492     2925   3.808594   1536\n",
       "2      y2h         0.046194     2930   2.903865   2018\n",
       "3  lit_reg         0.261134    11858   7.171454   3307"
      ]
     },
     "execution_count": 8,
     "metadata": {},
     "output_type": "execute_result"
    }
   ],
   "source": [
    "info"
   ]
  },
  {
   "cell_type": "code",
   "execution_count": 9,
   "metadata": {},
   "outputs": [],
   "source": [
    "# Tabla con fracción de interacciones en común entre las redes"
   ]
  },
  {
   "cell_type": "code",
   "execution_count": 10,
   "metadata": {},
   "outputs": [],
   "source": [
    "def overlap(red1,red2):\n",
    "    cant=0\n",
    "    for edge in red1.edges():\n",
    "        if edge in red2.edges():\n",
    "            cant+=1                        \n",
    "    return float(cant)/float(red1.number_of_edges())"
   ]
  },
  {
   "cell_type": "code",
   "execution_count": 11,
   "metadata": {},
   "outputs": [
    {
     "data": {
      "text/plain": [
       "0.14310915104740904"
      ]
     },
     "execution_count": 11,
     "metadata": {},
     "output_type": "execute_result"
    }
   ],
   "source": [
    "overlap(G1,G2)"
   ]
  },
  {
   "cell_type": "code",
   "execution_count": 12,
   "metadata": {},
   "outputs": [],
   "source": [
    "nombres=['apms','YID_lit','y2h','lit_reg']\n",
    "grafos=[G1,G2,G3,G4]\n",
    "columna=[0]*4\n",
    "for j in np.arange(4):\n",
    "    columna[j]=[0,0,0,0]\n",
    "    for i in np.arange(4):\n",
    "        if i==j:\n",
    "            columna[j][i]=nombres[i]\n",
    "        else:\n",
    "            columna[j][i]=overlap(grafos[i],grafos[j])\n",
    "            \n",
    "tabla2=pd.DataFrame(columna)"
   ]
  },
  {
   "cell_type": "code",
   "execution_count": 13,
   "metadata": {},
   "outputs": [
    {
     "data": {
      "text/html": [
       "<div>\n",
       "<style scoped>\n",
       "    .dataframe tbody tr th:only-of-type {\n",
       "        vertical-align: middle;\n",
       "    }\n",
       "\n",
       "    .dataframe tbody tr th {\n",
       "        vertical-align: top;\n",
       "    }\n",
       "\n",
       "    .dataframe thead th {\n",
       "        text-align: right;\n",
       "    }\n",
       "</style>\n",
       "<table border=\"1\" class=\"dataframe\">\n",
       "  <thead>\n",
       "    <tr style=\"text-align: right;\">\n",
       "      <th></th>\n",
       "      <th>0</th>\n",
       "      <th>1</th>\n",
       "      <th>2</th>\n",
       "      <th>3</th>\n",
       "    </tr>\n",
       "  </thead>\n",
       "  <tbody>\n",
       "    <tr>\n",
       "      <th>0</th>\n",
       "      <td>apms</td>\n",
       "      <td>0.443761</td>\n",
       "      <td>0.0887372</td>\n",
       "      <td>0.212515</td>\n",
       "    </tr>\n",
       "    <tr>\n",
       "      <th>1</th>\n",
       "      <td>0.143109</td>\n",
       "      <td>YID_lit</td>\n",
       "      <td>0.0887372</td>\n",
       "      <td>0.241187</td>\n",
       "    </tr>\n",
       "    <tr>\n",
       "      <th>2</th>\n",
       "      <td>0.0286659</td>\n",
       "      <td>0.0888889</td>\n",
       "      <td>y2h</td>\n",
       "      <td>0.0403947</td>\n",
       "    </tr>\n",
       "    <tr>\n",
       "      <th>3</th>\n",
       "      <td>0.277839</td>\n",
       "      <td>0.977778</td>\n",
       "      <td>0.163481</td>\n",
       "      <td>lit_reg</td>\n",
       "    </tr>\n",
       "  </tbody>\n",
       "</table>\n",
       "</div>"
      ],
      "text/plain": [
       "           0          1          2          3\n",
       "0       apms   0.443761  0.0887372   0.212515\n",
       "1   0.143109    YID_lit  0.0887372   0.241187\n",
       "2  0.0286659  0.0888889        y2h  0.0403947\n",
       "3   0.277839   0.977778   0.163481    lit_reg"
      ]
     },
     "execution_count": 13,
     "metadata": {},
     "output_type": "execute_result"
    }
   ],
   "source": [
    "tabla2"
   ]
  },
  {
   "cell_type": "code",
   "execution_count": 14,
   "metadata": {},
   "outputs": [],
   "source": [
    "fnessential = os.path.join(directorio,'tc02Data/Essential_ORFs_paperHe.txt')\n",
    "essential=ldata(fnessential)\n",
    "essential=[row[1] for row in essential[2:-4]]\n"
   ]
  },
  {
   "cell_type": "code",
   "execution_count": 15,
   "metadata": {},
   "outputs": [],
   "source": [
    "def essentialhubs(grafo,essential):\n",
    "    Nodos=sorted(grafo.degree, key=lambda x: x[1], reverse=True)\n",
    "    CantidadHubs=np.arange(len(Nodos)+1)\n",
    "    \n",
    "    CantidadEssential=[0]\n",
    "    PorcEssential=[0]\n",
    "    contador=1\n",
    "    for nodo in Nodos:\n",
    "        if nodo[0] in essential:\n",
    "            CantidadEssential.append(CantidadEssential[-1]+1)\n",
    "        else:\n",
    "            CantidadEssential.append(CantidadEssential[-1])\n",
    "        PorcEssential.append((float(CantidadEssential[-1])/(CantidadHubs[contador])))\n",
    "        \n",
    "        #print(CantidadHubs[contador],contador,CantidadEssential[-1])\n",
    "        contador+=1\n",
    "    print float(len(Nodos))\n",
    "    CantidadHubs=(np.array((CantidadHubs/float(len(Nodos)))))\n",
    "      \n",
    "    return [CantidadHubs,PorcEssential]"
   ]
  },
  {
   "cell_type": "code",
   "execution_count": 16,
   "metadata": {},
   "outputs": [
    {
     "name": "stdout",
     "output_type": "stream",
     "text": [
      "1622.0\n",
      "1536.0\n",
      "2018.0\n",
      "3307.0\n"
     ]
    },
    {
     "data": {
      "image/png": "[encoded data removed]",
      "text/plain": [
       "<Figure size 432x288 with 1 Axes>"
      ]
     },
     "metadata": {
      "needs_background": "light"
     },
     "output_type": "display_data"
    },
    {
     "name": "stdout",
     "output_type": "stream",
     "text": [
      "[<networkx.classes.graph.Graph object at 0x7fce51c4f910>, <networkx.classes.graph.Graph object at 0x7fce51c4fbd0>, <networkx.classes.graph.Graph object at 0x7fce51c4ff10>, <networkx.classes.graph.Graph object at 0x7fce51c4fb10>]\n"
     ]
    }
   ],
   "source": [
    "for i in np.arange(4):\n",
    "    cantidad,esencial=essentialhubs(grafos[i],essential)\n",
    "    #print cantidad,esencial\n",
    "    \n",
    "    plt.plot(cantidad,esencial) \n",
    "    plt.ylabel(\"fraccion de nodos esenciales\",fontsize=13)\n",
    "    plt.xlabel(\"definicion de hubs\",fontsize=13)\n",
    "    plt.xlim(0,1)\n",
    "plt.legend((nombres))\n",
    "plt.show()\n",
    "\n",
    "\n",
    "print (grafos)"
   ]
  },
  {
   "cell_type": "code",
   "execution_count": 17,
   "metadata": {},
   "outputs": [],
   "source": [
    "#.degree\n",
    "#eigenvector_centrality(G, max_iter=100, tol=1e-06, nstart=None, weight=None)\n",
    "#subgraph_centrality(G)\n",
    "#betweenness_centrality(G, k=None, normalized=True, weight=None, endpoints=False, seed=None)\n",
    "#current_flow_closeness_centrality(G, weight='weight', dtype=<type 'float'>, solver='lu')\n",
    "#len(max(nx.connected_component_subgraphs(G1), key=len).nodes())"
   ]
  },
  {
   "cell_type": "code",
   "execution_count": 18,
   "metadata": {},
   "outputs": [],
   "source": [
    "import random"
   ]
  },
  {
   "cell_type": "code",
   "execution_count": 30,
   "metadata": {},
   "outputs": [],
   "source": [
    "def vulnerability(Grafo,essential):\n",
    "    randomlist=[]\n",
    "    fraccion=[]\n",
    "    \n",
    "    Gramdon=Grafo.copy()\n",
    "    i=0   \n",
    "    \n",
    "    componente=max(nx.connected_component_subgraphs(Gramdon), key=len)  #Elegimos componente\n",
    "    \n",
    "    tamano = len(componente)      # arranco con el tamaño de la componente principal\n",
    "    while len(componente)>0:        \n",
    "            componente=max(nx.connected_component_subgraphs(componente), key=len) # Recalculo la componente principal\n",
    "            randomlist.append(len(componente)/float(tamano))         # tamaño de la componente (normalizado)\n",
    "            fraccion.append(i/float(tamano))                        #Cantidad de nodos que sacamos (normalizado)\n",
    "            \n",
    "               \n",
    "            nodo=random.choice(list(componente.nodes())) \n",
    "            componente.remove_node(nodo)\n",
    "            i+=1 \n",
    "    return fraccion,randomlist"
   ]
  },
  {
   "cell_type": "code",
   "execution_count": 37,
   "metadata": {},
   "outputs": [],
   "source": [
    "def vulnerabilitygrado(Grafo,essential):\n",
    "    gradolist=[]\n",
    "    fracciongrado=[]\n",
    "    Ggrado=Grafo.copy()\n",
    "    i=0   \n",
    "    \n",
    "    componente=max(nx.connected_component_subgraphs(Ggrado), key=len)\n",
    "    tamano = len(componente)\n",
    "    #Nodos=sorted(G.degree, key=lambda x: x[1], reverse=True)\n",
    "    while len(componente)>0:        \n",
    "            componente=max(nx.connected_component_subgraphs(componente), key=len)\n",
    "            gradolist.append(len(componente)/float(tamano))\n",
    "            fracciongrado.append(i/float(tamano))\n",
    "            \n",
    "            nodo=max(componente.degree,key=len)                \n",
    "            componente.remove_node(nodo[0])\n",
    "            i+=1\n",
    "    \n",
    "                 \n",
    "    return fracciongrado,gradolist"
   ]
  },
  {
   "cell_type": "code",
   "execution_count": 100,
   "metadata": {},
   "outputs": [],
   "source": [
    "def vulnerabilityautovec(Grafo,essential):\n",
    "    autoveclist=[]\n",
    "    fraccionautivec=[]   \n",
    "    Gauv=Grafo.copy()\n",
    "    i=0\n",
    "    \n",
    "    componente=max(nx.connected_component_subgraphs(Gauv), key=len)\n",
    "    tamano = len(componente)\n",
    "    while len(componente)>0:\n",
    "            componente=max(nx.connected_component_subgraphs(componente), key=len)\n",
    "            autoveclist.append(len(componente)/float(tamano))\n",
    "            fraccionautivec.append(i/float(tamano))            \n",
    "            nodo=max(nx.eigenvector_centrality(componente,max_iter=50),key=len)            \n",
    "            componente.remove_node(nodo)\n",
    "            i+=1  \n",
    "   \n",
    "    return fraccionautivec,autoveclist"
   ]
  },
  {
   "cell_type": "code",
   "execution_count": 44,
   "metadata": {},
   "outputs": [],
   "source": [
    "def vulnerabilitysubgraph(Grafo,essential):\n",
    "    subgraphlist=[]\n",
    "    fraccionsubgra=[]\n",
    "    \n",
    "    Gsub=Grafo.copy()\n",
    "    i=0\n",
    "    \n",
    "    componente=max(nx.connected_component_subgraphs(Gsub), key=len)\n",
    "    tamano = len(componente)\n",
    "    while len(componente)>0:\n",
    "            componente=max(nx.connected_component_subgraphs(componente), key=len)\n",
    "            subgraphlist.append(len(componente)/float(tamano))\n",
    "            fraccionsubgra.append(i/float(tamano))\n",
    "            \n",
    "            nodo=max(nx.subgraph_centrality(componente), key=len)       \n",
    "            componente.remove_node(nodo)\n",
    "            i+=1\n",
    "    return fraccionsubgra,subgraphlist"
   ]
  },
  {
   "cell_type": "code",
   "execution_count": 61,
   "metadata": {},
   "outputs": [],
   "source": [
    "def vulnerabilitybetweeness(Grafo,essential):\n",
    "    betweenesslist=[]\n",
    "    fraccion=[]\n",
    "    G=Grafo.copy()\n",
    "    i=0\n",
    "    \n",
    "    componente=max(nx.connected_component_subgraphs(G), key=len)\n",
    "    tamano=len(componente)\n",
    "    while len(componente)>0:\n",
    "            componente=max(nx.connected_component_subgraphs(componente), key=len)\n",
    "            betweenesslist.append(len(componente)/float(tamano))\n",
    "            fraccion.append(i/float(tamano))\n",
    "            \n",
    "            nodo=max(nx.betweenness_centrality(componente, k=None, normalized=True, \n",
    "                                               weight=None, endpoints=False, seed=None),key=len)\n",
    "            componente.remove_node(nodo)            \n",
    "            i+=1\n",
    "            \n",
    "    return fraccion,betweenesslist"
   ]
  },
  {
   "cell_type": "code",
   "execution_count": 47,
   "metadata": {},
   "outputs": [],
   "source": [
    "def vulnerabilityflow(Grafo,essential):\n",
    "    flowlist=[]\n",
    "    fraccion=[]\n",
    "    \n",
    "    G=Grafo.copy()\n",
    "    i=0\n",
    "    Nodos=sorted(nx.current_flow_closeness_centrality(max(nx.connected_component_subgraphs(G), key=len), \n",
    "                                                      weight=None, solver='lu'), key=lambda x: x[1], reverse=True)\n",
    "    \n",
    "    componente=max(nx.connected_component_subgraphs(G), key=len)\n",
    "    tamano=len(componente)\n",
    "    \n",
    "    while len(componente)>0:\n",
    "        componente=max(nx.connected_component_subgraphs(componente), key=len)\n",
    "        flowlist.append(len(componente)/float(tamano))\n",
    "        fraccion.append(i/float(tamano))\n",
    "        nodo=max(nx.current_flow_closeness_centrality(componente),key=len)\n",
    "        componente.remove_node(nodo)\n",
    "        i+=1\n",
    "    return fraccion,flowlist"
   ]
  },
  {
   "cell_type": "code",
   "execution_count": 77,
   "metadata": {},
   "outputs": [],
   "source": [
    "def vulnerabilityessential(Grafo,essential):\n",
    "    G=Grafo.copy()\n",
    "    tamano=len(list(Grafo.nodes()))   \n",
    "    print tamano\n",
    "    for nodo in Grafo.nodes():\n",
    "        if nodo in essential:\n",
    "            G.remove_node(nodo)\n",
    "            \n",
    "    essential=len(max(nx.connected_component_subgraphs(G), key=len).nodes())/float(tamano)\n",
    "    fraccion3=(len(Grafo)-len(G))/float(tamano)\n",
    "\n",
    "    return fraccion3,essential,len(Grafo)-len(G)"
   ]
  },
  {
   "cell_type": "code",
   "execution_count": 26,
   "metadata": {},
   "outputs": [],
   "source": [
    "#No correr estos, salvo que queramos probar uno por uno"
   ]
  },
  {
   "cell_type": "code",
   "execution_count": null,
   "metadata": {},
   "outputs": [],
   "source": []
  },
  {
   "cell_type": "code",
   "execution_count": 92,
   "metadata": {},
   "outputs": [
    {
     "name": "stdout",
     "output_type": "stream",
     "text": [
      "3307\n"
     ]
    }
   ],
   "source": [
    "f2,vgrado=vulnerabilitygrado(G4,essential)"
   ]
  },
  {
   "cell_type": "code",
   "execution_count": 101,
   "metadata": {},
   "outputs": [
    {
     "ename": "PowerIterationFailedConvergence",
     "evalue": "(PowerIterationFailedConvergence(...), 'power iteration failed to converge within 50 iterations')",
     "output_type": "error",
     "traceback": [
      "\u001b[0;31m---------------------------------------------------------------------------\u001b[0m",
      "\u001b[0;31mPowerIterationFailedConvergence\u001b[0m           Traceback (most recent call last)",
      "\u001b[0;32m<ipython-input-101-e1f35165eb8a>\u001b[0m in \u001b[0;36m<module>\u001b[0;34m()\u001b[0m\n\u001b[0;32m----> 1\u001b[0;31m \u001b[0mf3\u001b[0m\u001b[0;34m,\u001b[0m\u001b[0mlcautovec\u001b[0m\u001b[0;34m=\u001b[0m\u001b[0mvulnerabilityautovec\u001b[0m\u001b[0;34m(\u001b[0m\u001b[0mG4\u001b[0m\u001b[0;34m,\u001b[0m\u001b[0messential\u001b[0m\u001b[0;34m)\u001b[0m\u001b[0;34m\u001b[0m\u001b[0m\n\u001b[0m",
      "\u001b[0;32m<ipython-input-100-3ffe0173600c>\u001b[0m in \u001b[0;36mvulnerabilityautovec\u001b[0;34m(Grafo, essential)\u001b[0m\n\u001b[1;32m     11\u001b[0m             \u001b[0mautoveclist\u001b[0m\u001b[0;34m.\u001b[0m\u001b[0mappend\u001b[0m\u001b[0;34m(\u001b[0m\u001b[0mlen\u001b[0m\u001b[0;34m(\u001b[0m\u001b[0mcomponente\u001b[0m\u001b[0;34m)\u001b[0m\u001b[0;34m/\u001b[0m\u001b[0mfloat\u001b[0m\u001b[0;34m(\u001b[0m\u001b[0mtamano\u001b[0m\u001b[0;34m)\u001b[0m\u001b[0;34m)\u001b[0m\u001b[0;34m\u001b[0m\u001b[0m\n\u001b[1;32m     12\u001b[0m             \u001b[0mfraccionautivec\u001b[0m\u001b[0;34m.\u001b[0m\u001b[0mappend\u001b[0m\u001b[0;34m(\u001b[0m\u001b[0mi\u001b[0m\u001b[0;34m/\u001b[0m\u001b[0mfloat\u001b[0m\u001b[0;34m(\u001b[0m\u001b[0mtamano\u001b[0m\u001b[0;34m)\u001b[0m\u001b[0;34m)\u001b[0m\u001b[0;34m\u001b[0m\u001b[0m\n\u001b[0;32m---> 13\u001b[0;31m             \u001b[0mnodo\u001b[0m\u001b[0;34m=\u001b[0m\u001b[0mmax\u001b[0m\u001b[0;34m(\u001b[0m\u001b[0mnx\u001b[0m\u001b[0;34m.\u001b[0m\u001b[0meigenvector_centrality\u001b[0m\u001b[0;34m(\u001b[0m\u001b[0mcomponente\u001b[0m\u001b[0;34m,\u001b[0m\u001b[0mmax_iter\u001b[0m\u001b[0;34m=\u001b[0m\u001b[0;36m50\u001b[0m\u001b[0;34m)\u001b[0m\u001b[0;34m,\u001b[0m\u001b[0mkey\u001b[0m\u001b[0;34m=\u001b[0m\u001b[0mlen\u001b[0m\u001b[0;34m)\u001b[0m\u001b[0;34m\u001b[0m\u001b[0m\n\u001b[0m\u001b[1;32m     14\u001b[0m             \u001b[0mcomponente\u001b[0m\u001b[0;34m.\u001b[0m\u001b[0mremove_node\u001b[0m\u001b[0;34m(\u001b[0m\u001b[0mnodo\u001b[0m\u001b[0;34m)\u001b[0m\u001b[0;34m\u001b[0m\u001b[0m\n\u001b[1;32m     15\u001b[0m             \u001b[0mi\u001b[0m\u001b[0;34m+=\u001b[0m\u001b[0;36m1\u001b[0m\u001b[0;34m\u001b[0m\u001b[0m\n",
      "\u001b[0;32m<decorator-gen-198>\u001b[0m in \u001b[0;36meigenvector_centrality\u001b[0;34m(G, max_iter, tol, nstart, weight)\u001b[0m\n",
      "\u001b[0;32m/home/yuya/anaconda2/lib/python2.7/site-packages/networkx/utils/decorators.pyc\u001b[0m in \u001b[0;36m_not_implemented_for\u001b[0;34m(not_implement_for_func, *args, **kwargs)\u001b[0m\n\u001b[1;32m     71\u001b[0m             \u001b[0;32mraise\u001b[0m \u001b[0mnx\u001b[0m\u001b[0;34m.\u001b[0m\u001b[0mNetworkXNotImplemented\u001b[0m\u001b[0;34m(\u001b[0m\u001b[0mmsg\u001b[0m\u001b[0;34m)\u001b[0m\u001b[0;34m\u001b[0m\u001b[0m\n\u001b[1;32m     72\u001b[0m         \u001b[0;32melse\u001b[0m\u001b[0;34m:\u001b[0m\u001b[0;34m\u001b[0m\u001b[0m\n\u001b[0;32m---> 73\u001b[0;31m             \u001b[0;32mreturn\u001b[0m \u001b[0mnot_implement_for_func\u001b[0m\u001b[0;34m(\u001b[0m\u001b[0;34m*\u001b[0m\u001b[0margs\u001b[0m\u001b[0;34m,\u001b[0m \u001b[0;34m**\u001b[0m\u001b[0mkwargs\u001b[0m\u001b[0;34m)\u001b[0m\u001b[0;34m\u001b[0m\u001b[0m\n\u001b[0m\u001b[1;32m     74\u001b[0m     \u001b[0;32mreturn\u001b[0m \u001b[0m_not_implemented_for\u001b[0m\u001b[0;34m\u001b[0m\u001b[0m\n\u001b[1;32m     75\u001b[0m \u001b[0;34m\u001b[0m\u001b[0m\n",
      "\u001b[0;32m/home/yuya/anaconda2/lib/python2.7/site-packages/networkx/algorithms/centrality/eigenvector.pyc\u001b[0m in \u001b[0;36meigenvector_centrality\u001b[0;34m(G, max_iter, tol, nstart, weight)\u001b[0m\n\u001b[1;32m    146\u001b[0m         \u001b[0;32mif\u001b[0m \u001b[0msum\u001b[0m\u001b[0;34m(\u001b[0m\u001b[0mabs\u001b[0m\u001b[0;34m(\u001b[0m\u001b[0mx\u001b[0m\u001b[0;34m[\u001b[0m\u001b[0mn\u001b[0m\u001b[0;34m]\u001b[0m \u001b[0;34m-\u001b[0m \u001b[0mxlast\u001b[0m\u001b[0;34m[\u001b[0m\u001b[0mn\u001b[0m\u001b[0;34m]\u001b[0m\u001b[0;34m)\u001b[0m \u001b[0;32mfor\u001b[0m \u001b[0mn\u001b[0m \u001b[0;32min\u001b[0m \u001b[0mx\u001b[0m\u001b[0;34m)\u001b[0m \u001b[0;34m<\u001b[0m \u001b[0mnnodes\u001b[0m \u001b[0;34m*\u001b[0m \u001b[0mtol\u001b[0m\u001b[0;34m:\u001b[0m\u001b[0;34m\u001b[0m\u001b[0m\n\u001b[1;32m    147\u001b[0m             \u001b[0;32mreturn\u001b[0m \u001b[0mx\u001b[0m\u001b[0;34m\u001b[0m\u001b[0m\n\u001b[0;32m--> 148\u001b[0;31m     \u001b[0;32mraise\u001b[0m \u001b[0mnx\u001b[0m\u001b[0;34m.\u001b[0m\u001b[0mPowerIterationFailedConvergence\u001b[0m\u001b[0;34m(\u001b[0m\u001b[0mmax_iter\u001b[0m\u001b[0;34m)\u001b[0m\u001b[0;34m\u001b[0m\u001b[0m\n\u001b[0m\u001b[1;32m    149\u001b[0m \u001b[0;34m\u001b[0m\u001b[0m\n\u001b[1;32m    150\u001b[0m \u001b[0;34m\u001b[0m\u001b[0m\n",
      "\u001b[0;31mPowerIterationFailedConvergence\u001b[0m: (PowerIterationFailedConvergence(...), 'power iteration failed to converge within 50 iterations')"
     ]
    }
   ],
   "source": [
    "f3,lcautovec=vulnerabilityautovec(G4,essential)"
   ]
  },
  {
   "cell_type": "code",
   "execution_count": 102,
   "metadata": {},
   "outputs": [],
   "source": [
    "f4,lcsubgraph=vulnerabilitysubgraph(G4,essential)"
   ]
  },
  {
   "cell_type": "code",
   "execution_count": null,
   "metadata": {},
   "outputs": [],
   "source": [
    "f5,lcbetweeness=vulnerabilitybetweeness(G4,essential)"
   ]
  },
  {
   "cell_type": "code",
   "execution_count": 80,
   "metadata": {},
   "outputs": [],
   "source": [
    "f6,lcflow=vulnerabilityflow(G4,essential)"
   ]
  },
  {
   "cell_type": "code",
   "execution_count": 95,
   "metadata": {},
   "outputs": [
    {
     "name": "stdout",
     "output_type": "stream",
     "text": [
      "3307\n"
     ]
    }
   ],
   "source": [
    "f7,lcessential,cant=vulnerabilityessential(G4,essential)"
   ]
  },
  {
   "cell_type": "code",
   "execution_count": 90,
   "metadata": {},
   "outputs": [
    {
     "name": "stdout",
     "output_type": "stream",
     "text": [
      "2005 2005\n"
     ]
    }
   ],
   "source": [
    "#Todo Junto\n",
    "#G=G2 #Hay que cambiar para hacer el de otros graficos\n",
    "#Para el metodo random realizamos 10 iteraciones y elegimos el promedio de todas\n",
    "lcs=[]\n",
    "for i in np.arange(3):\n",
    "    f1,lista=vulnerability(G4,essential)    \n",
    "    lcs.append(lista)\n",
    "lc=[np.mean(a) for a in list((zip(lcs[0],lcs[1],lcs[2])))]\n",
    "print len(lc), len(f1)"
   ]
  },
  {
   "cell_type": "code",
   "execution_count": null,
   "metadata": {},
   "outputs": [],
   "source": []
  },
  {
   "cell_type": "code",
   "execution_count": 64,
   "metadata": {},
   "outputs": [
    {
     "data": {
      "image/png": "[encoded data removed]",
      "text/plain": [
       "<Figure size 432x288 with 1 Axes>"
      ]
     },
     "metadata": {
      "needs_background": "light"
     },
     "output_type": "display_data"
    }
   ],
   "source": [
    "# Red 1\n",
    "\"\"\"\n",
    "plt.plot(f1,lc,\"r\", label='random')\n",
    "plt.plot(f2,vgrado,\"b\", label='grado')\n",
    "plt.plot(f3,lcautovec,\"k\", label='autovector')\n",
    "plt.plot(f4,lcsubgraph,\"g\", label='subgraph')\n",
    "plt.plot(f5,lcbetweeness,\"y\", label='betweenness')\n",
    "plt.plot(f6,lcflow,\"m\", label='flujo')\n",
    "plt.scatter(f7,lcessential, label='esencial')\n",
    "plt.xlabel(\"fraccion de nodos\")\n",
    "plt.ylabel(\"componente conectada mas grande\")\n",
    "plt.ylim(0,1,0.2)\n",
    "plt.xlim(0,0.8)\n",
    "plt.legend()\n",
    "plt.title(\"APMS\")\n",
    "plt.show()\n",
    "\"\"\""
   ]
  },
  {
   "cell_type": "code",
   "execution_count": 49,
   "metadata": {},
   "outputs": [
    {
     "name": "stdout",
     "output_type": "stream",
     "text": [
      "511 511\n"
     ]
    },
    {
     "data": {
      "image/png": "[encoded data removed]",
      "text/plain": [
       "<Figure size 432x288 with 1 Axes>"
      ]
     },
     "metadata": {
      "needs_background": "light"
     },
     "output_type": "display_data"
    }
   ],
   "source": [
    "# Red 2\n",
    "\"\"\"\n",
    "plt.plot(f1,lc,\"r\", label='random')\n",
    "plt.plot(f2,vgrado,\"b\", label='grado')\n",
    "plt.plot(f3,lcautovec,\"k\", label='autovector')\n",
    "plt.plot(f4,lcsubgraph,\"g\", label='subgraph')\n",
    "plt.plot(f5,lcbetweeness,\"y\", label='betweenness')\n",
    "plt.plot(f6,lcflow,\"m\", label='flujo')\n",
    "plt.scatter(f7,lcessential, label='esencial')\n",
    "plt.xlabel(\"fraccion de nodos\")\n",
    "plt.ylabel(\"componente conectada mas grande\")\n",
    "plt.ylim(0,1,0.2)\n",
    "plt.xlim(0,0.5)\n",
    "plt.legend()\n",
    "plt.title(\"YID_lit\")\n",
    "plt.show()\n",
    "\"\"\""
   ]
  },
  {
   "cell_type": "code",
   "execution_count": 86,
   "metadata": {},
   "outputs": [
    {
     "data": {
      "image/png": "[encoded data removed]",
      "text/plain": [
       "<Figure size 432x288 with 1 Axes>"
      ]
     },
     "metadata": {
      "needs_background": "light"
     },
     "output_type": "display_data"
    }
   ],
   "source": [
    "# Red 3\n",
    "\"\"\"\"\n",
    "plt.plot(f1,lc,\"r\", label='random')\n",
    "plt.plot(f2,vgrado,\"b\", label='grado')\n",
    "plt.plot(f3,lcautovec,\"k\", label='autovector')\n",
    "plt.plot(f4,lcsubgraph,\"g\", label='subgraph')\n",
    "plt.plot(f5,lcbetweeness,\"y\", label='betweenness')\n",
    "plt.plot(f6,lcflow,\"m\", label='flujo')\n",
    "plt.scatter(f7,lcessential, label='esencial')\n",
    "plt.xlabel(\"fraccion de nodos\")\n",
    "plt.ylabel(\"componente conectada mas grande\")\n",
    "plt.ylim(0,1,0.2)\n",
    "plt.xlim(0,0.6)\n",
    "plt.legend()\n",
    "plt.title(\"y2h\")\n",
    "plt.show()\n",
    "\"\"\""
   ]
  },
  {
   "cell_type": "code",
   "execution_count": 103,
   "metadata": {},
   "outputs": [
    {
     "data": {
      "image/png": "[encoded data removed]",
      "text/plain": [
       "<Figure size 432x288 with 1 Axes>"
      ]
     },
     "metadata": {
      "needs_background": "light"
     },
     "output_type": "display_data"
    }
   ],
   "source": [
    "# Red 4\n",
    "\n",
    "plt.plot(f1,lc,\"r\", label='random')\n",
    "plt.plot(f2,vgrado,\"b\", label='grado')\n",
    "plt.plot(f3,lcautovec,\"k\", label='autovector')\n",
    "#plt.plot(f4,lcsubgraph,\"g\", label='subgraph')\n",
    "#plt.plot(f5,lcbetweeness,\"y\", label='betweenness')\n",
    "#plt.plot(f6,lcflow,\"m\", label='flujo')\n",
    "plt.scatter(f7,lcessential, label='esencial')\n",
    "plt.xlabel(\"fraccion de nodos\")\n",
    "plt.ylabel(\"componente conectada mas grande\")\n",
    "plt.ylim(0,1,0.2)\n",
    "plt.xlim(0,0.8)\n",
    "plt.legend()\n",
    "plt.title(\"Lit_regulary\")\n",
    "plt.show()\n"
   ]
  },
  {
   "cell_type": "code",
   "execution_count": 36,
   "metadata": {},
   "outputs": [
    {
     "data": {
      "image/png": "[encoded data removed]",
      "text/plain": [
       "<matplotlib.figure.Figure at 0x7fa5f6217e80>"
      ]
     },
     "metadata": {},
     "output_type": "display_data"
    }
   ],
   "source": [
    "# Figura 2b  de HE (2006)\n",
    "\n",
    "Grafo=G4.copy()\n",
    "HEnorm={}\n",
    "HEessencial={}\n",
    "for nodo in Grafo.nodes():\n",
    "    grado=Grafo.degree(nodo)\n",
    "    if grado<11:\n",
    "        try:\n",
    "            HEnorm[grado]+=1\n",
    "        except:\n",
    "            HEnorm[grado]=1\n",
    "\n",
    "        if nodo in essential:\n",
    "            try:\n",
    "                HEessencial[grado]+=1\n",
    "            except:\n",
    "                HEessencial[grado]=1\n",
    "\n",
    "Porc={}\n",
    "for i in sorted(HEnorm.keys()):\n",
    "    try:\n",
    "        Porc[i]=log(1-(HEessencial[i]/HEnorm[i]))\n",
    "    except:\n",
    "        Porc[i]=log(1)\n",
    "plt.plot(list(Porc.keys()),list(Porc.values()),'bo')\n",
    "plt.show()"
   ]
  },
  {
   "cell_type": "code",
   "execution_count": 64,
   "metadata": {},
   "outputs": [
    {
     "name": "stdout",
     "output_type": "stream",
     "text": [
      "-0.0437694079108 -0.0542042121692\n",
      "0.0481586382889\n"
     ]
    },
    {
     "data": {
      "image/png": "[encoded data removed]",
      "text/plain": [
       "<matplotlib.figure.Figure at 0x7fa5f61c8b00>"
      ]
     },
     "metadata": {},
     "output_type": "display_data"
    }
   ],
   "source": [
    "\n",
    "# Ajuste de la recta\n",
    "\n",
    "datox=np.array(list(Porc.keys()))\n",
    "datoy=np.array(list(Porc.values()))\n",
    "\n",
    "fitfunc = lambda p, x: p[0] + x* p[1] \n",
    "errfunc = lambda p, x, y: (y - fitfunc(p, x)) \n",
    "\n",
    "pinit = [1, 1]\n",
    "out = optimize.leastsq(errfunc, pinit,  args=(datox,datoy), full_output=1)\n",
    "pfinal = out[0]\n",
    "\n",
    "rms = np.sqrt(np.mean(errfunc(pfinal,datox,datoy)**2))\n",
    "\n",
    "print(pfinal[0],pfinal[1])\n",
    "print(rms)\n",
    "\n",
    "recta=[fitfunc(pfinal,x) for x in datox ]\n",
    "\n",
    "plt.clf()\n",
    "plt.plot(datox,datoy,'bo')\n",
    "plt.plot(datox, recta)     # Fit\n",
    "plt.xlabel(\"conectividad de proteínas(k)\",fontsize = 15)\n",
    "plt.ylabel('$ln(1-P_E)$', fontsize = 15)\n",
    "#plt.anotate(poner el valor del Ln,r y p)\n",
    "plt.show()"
   ]
  },
  {
   "cell_type": "code",
   "execution_count": 40,
   "metadata": {
    "collapsed": true
   },
   "outputs": [],
   "source": [
    "## Tabla 3 Zotenco (2008)"
   ]
  },
  {
   "cell_type": "code",
   "execution_count": 45,
   "metadata": {
    "collapsed": true
   },
   "outputs": [],
   "source": [
    "def gradoesencial(Grafo,essential):\n",
    "        G=Grafo.copy()\n",
    "        tamaño=np.max(list(dict(G.degree()).values()))\n",
    "        gradosdeesencial={}\n",
    "        for i in range(tamaño+1):\n",
    "                gradosdeesencial[i]=0\n",
    "\n",
    "        for nodo in G.nodes():\n",
    "            if nodo in essential:\n",
    "                gradosdeesencial[G.degree[nodo]]+=1\n",
    "    \n",
    "        return gradosdeesencial\n",
    "\n",
    "\n",
    "\n",
    "def seleccionar(Grafo,essential,gradosdeesencial):\n",
    "        G=Grafo.copy()\n",
    "        listadeseleccion=[]\n",
    "\n",
    "        diccionariodegrados=dict(G.degree())\n",
    "\n",
    "        for gradoorden in gradosdeesencial.keys():\n",
    "                listaseleccionadaporgrados=[]\n",
    "                listaparaagregar=[]\n",
    "                for nodos,grados in diccionariodegrados.items():\n",
    "                        if grados==gradoorden:\n",
    "                                listaseleccionadaporgrados.append(nodos)\n",
    "                listaparaagregar=random.sample(listaseleccionadaporgrados,gradosdeesencial[gradoorden])\n",
    "                listadeseleccion.extend(listaparaagregar)\n",
    "        return listadeseleccion"
   ]
  },
  {
   "cell_type": "code",
   "execution_count": 56,
   "metadata": {
    "collapsed": true
   },
   "outputs": [],
   "source": [
    "def randomcongrado(grafo,essential):\n",
    "    randomlist=[]\n",
    "    for i in np.arange(100):\n",
    "        gradoesencial1=gradoesencial(grafo,essential)\n",
    "        lista=seleccionar(grafo,essential,gradoesencial1)\n",
    "        f,reslista,cant= vulnerabilityessential(grafo,lista)\n",
    "        randomlist.append(reslista)\n",
    "    M = np.mean(randomlist)\n",
    "    S = np.std(randomlist)\n",
    "    return M,S"
   ]
  },
  {
   "cell_type": "code",
   "execution_count": 57,
   "metadata": {},
   "outputs": [],
   "source": [
    "i=0\n",
    "ESSENTIAL=[0]*4\n",
    "MEAN=[0]*4\n",
    "STD=[0]*4\n",
    "for grafo in grafos:\n",
    "    f,ESSENTIAL[i],cant= vulnerabilityessential(grafo,essential)\n",
    "    MEAN[i],STD[i]=randomcongrado(grafo,essential)\n",
    "    i+=1"
   ]
  },
  {
   "cell_type": "code",
   "execution_count": 58,
   "metadata": {},
   "outputs": [
    {
     "data": {
      "text/plain": [
       "[0.032005486539914037,\n",
       " 0.032994208447390865,\n",
       " 0.011023596405319504,\n",
       " 0.010840999539013638]"
      ]
     },
     "execution_count": 58,
     "metadata": {},
     "output_type": "execute_result"
    }
   ],
   "source": [
    "STD"
   ]
  },
  {
   "cell_type": "code",
   "execution_count": 59,
   "metadata": {
    "collapsed": true
   },
   "outputs": [],
   "source": [
    "Tabla3= pd.DataFrame({\"ID\":['apms','YID_lit','y2h','lit_reg'],\"essential\":ESSENTIAL,\"random\":MEAN,\"error\":STD})"
   ]
  },
  {
   "cell_type": "code",
   "execution_count": 60,
   "metadata": {},
   "outputs": [
    {
     "name": "stdout",
     "output_type": "stream",
     "text": [
      "        ID     error  essential    random\n",
      "0     apms  0.032005   0.200370  0.210561\n",
      "1  YID_lit  0.032994   0.222005  0.078268\n",
      "2      y2h  0.011024   0.509415  0.488578\n",
      "3  lit_reg  0.010841   0.560629  0.513441\n"
     ]
    }
   ],
   "source": [
    "print(Tabla3)"
   ]
  },
  {
   "cell_type": "code",
   "execution_count": null,
   "metadata": {
    "collapsed": true
   },
   "outputs": [],
   "source": []
  }
 ],
 "metadata": {
  "kernelspec": {
   "display_name": "Python 3",
   "language": "python",
   "name": "python3"
  },
  "language_info": {
   "codemirror_mode": {
    "name": "ipython",
    "version": 2
   },
   "file_extension": ".py",
   "mimetype": "text/x-python",
   "name": "python",
   "nbconvert_exporter": "python",
   "pygments_lexer": "ipython2",
   "version": "2.7.15"
  }
 },
 "nbformat": 4,
 "nbformat_minor": 2
}
