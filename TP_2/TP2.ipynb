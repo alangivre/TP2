{
 "cells": [
  {
   "cell_type": "markdown",
   "metadata": {},
   "source": [
    "Trabajo Practico 2"
   ]
  },
  {
   "cell_type": "code",
   "execution_count": 73,
   "metadata": {},
   "outputs": [],
   "source": [
    "import networkx as nx\n",
    "import pandas as pd\n",
    "import matplotlib.pyplot as plt\n",
    "import matplotlib.colors\n",
    "import numpy as np\n",
    "from  collections  import defaultdict\n",
    "from scipy import optimize\n",
    "import os\n",
    "from lectura import ldata\n",
    "from math import log"
   ]
  },
  {
   "cell_type": "code",
   "execution_count": 2,
   "metadata": {},
   "outputs": [],
   "source": [
    "# Red de interacciones binarias(yeast_Y2H.txt)\n",
    "# Red de copertenecia o complejos proteícos(yeast_AP-MS.txt)\n",
    "# Red obtenida de literatura: Yeast Interactome Database(yeast_LIT.txt)"
   ]
  },
  {
   "cell_type": "code",
   "execution_count": 3,
   "metadata": {},
   "outputs": [],
   "source": [
    "# El directorio que vamos a usar en cada lectura de datos de ahora en mas\n",
    "directorio = os.path.dirname(os.path.realpath(\"yeast_AP-MS.txt\"))"
   ]
  },
  {
   "cell_type": "code",
   "execution_count": 4,
   "metadata": {},
   "outputs": [],
   "source": [
    "fnMS = os.path.join(directorio,'tc02Data/yeast_AP-MS.txt')\n",
    "fnLIT = os.path.join(directorio,'tc02Data/yeast_LIT.txt')\n",
    "fnY2H = os.path.join(directorio,'tc02Data/yeast_Y2H.txt')\n",
    "fnLIT_reg = os.path.join(directorio,'tc02Data/yeast_LIT_Reguly.txt')\n",
    "\n",
    "# Lectura de datos\n",
    "datosapms=ldata(fnMS)\n",
    "datoslit=ldata(fnLIT)\n",
    "datosy2h=ldata(fnY2H)\n",
    "datoslit_reg=ldata(fnLIT_reg)\n",
    "datoslit_reg=[row[0:2] for row in datoslit_reg][1:]\n"
   ]
  },
  {
   "cell_type": "code",
   "execution_count": 5,
   "metadata": {},
   "outputs": [],
   "source": [
    "G1 = nx.Graph()\n",
    "G2 = nx.Graph()\n",
    "G3 = nx.Graph()\n",
    "G4 = nx.Graph()\n",
    "\n",
    "G1.add_edges_from(datosapms)\n",
    "G2.add_edges_from(datoslit)\n",
    "G3.add_edges_from(datosy2h)\n",
    "G4.add_edges_from(datoslit_reg)\n",
    "\n"
   ]
  },
  {
   "cell_type": "code",
   "execution_count": 6,
   "metadata": {},
   "outputs": [],
   "source": [
    "# Características de las redes\n",
    "\n",
    "# Numero total de nodos\n",
    "N = [G1.number_of_nodes(),G2.number_of_nodes(),G3.number_of_nodes(),G4.number_of_nodes()]\n",
    "\n",
    "# Numero total de enlaces\n",
    "L = [G1.number_of_edges(),G2.number_of_edges(),G3.number_of_edges(),G4.number_of_edges()]\n",
    "\n",
    "# Grado medio\n",
    "kmean = [np.mean(list(dict(G1.degree).values())),np.mean(list(dict(G2.degree).values())),\n",
    "         np.mean(list(dict(G3.degree).values())),\n",
    "         np.mean(list(dict(G4.degree).values()))]\n",
    "\n",
    "# Coeficiente de clustering local\n",
    "clusteringlocal = [nx.average_clustering(G1),nx.average_clustering(G2),nx.average_clustering(G3),nx.average_clustering(G4)]\n"
   ]
  },
  {
   "cell_type": "code",
   "execution_count": 7,
   "metadata": {},
   "outputs": [],
   "source": [
    "# Tabla con las caraterísticas de las redes\n",
    "info= pd.DataFrame({\"ID\":['apms','YID_lit','y2h','lit_reg'],\"nodos\":N,\"enlaces\":L,\"kmean\":kmean,\n",
    "                    \"clusteringlocal\":clusteringlocal})"
   ]
  },
  {
   "cell_type": "code",
   "execution_count": 8,
   "metadata": {},
   "outputs": [
    {
     "data": {
      "text/html": [
       "<div>\n",
       "<style scoped>\n",
       "    .dataframe tbody tr th:only-of-type {\n",
       "        vertical-align: middle;\n",
       "    }\n",
       "\n",
       "    .dataframe tbody tr th {\n",
       "        vertical-align: top;\n",
       "    }\n",
       "\n",
       "    .dataframe thead th {\n",
       "        text-align: right;\n",
       "    }\n",
       "</style>\n",
       "<table border=\"1\" class=\"dataframe\">\n",
       "  <thead>\n",
       "    <tr style=\"text-align: right;\">\n",
       "      <th></th>\n",
       "      <th>ID</th>\n",
       "      <th>clusteringlocal</th>\n",
       "      <th>enlaces</th>\n",
       "      <th>kmean</th>\n",
       "      <th>nodos</th>\n",
       "    </tr>\n",
       "  </thead>\n",
       "  <tbody>\n",
       "    <tr>\n",
       "      <th>0</th>\n",
       "      <td>apms</td>\n",
       "      <td>0.554636</td>\n",
       "      <td>9070</td>\n",
       "      <td>11.183724</td>\n",
       "      <td>1622</td>\n",
       "    </tr>\n",
       "    <tr>\n",
       "      <th>1</th>\n",
       "      <td>YID_lit</td>\n",
       "      <td>0.292492</td>\n",
       "      <td>2925</td>\n",
       "      <td>3.808594</td>\n",
       "      <td>1536</td>\n",
       "    </tr>\n",
       "    <tr>\n",
       "      <th>2</th>\n",
       "      <td>y2h</td>\n",
       "      <td>0.046194</td>\n",
       "      <td>2930</td>\n",
       "      <td>2.903865</td>\n",
       "      <td>2018</td>\n",
       "    </tr>\n",
       "    <tr>\n",
       "      <th>3</th>\n",
       "      <td>lit_reg</td>\n",
       "      <td>0.261134</td>\n",
       "      <td>11858</td>\n",
       "      <td>7.171454</td>\n",
       "      <td>3307</td>\n",
       "    </tr>\n",
       "  </tbody>\n",
       "</table>\n",
       "</div>"
      ],
      "text/plain": [
       "        ID  clusteringlocal  enlaces      kmean  nodos\n",
       "0     apms         0.554636     9070  11.183724   1622\n",
       "1  YID_lit         0.292492     2925   3.808594   1536\n",
       "2      y2h         0.046194     2930   2.903865   2018\n",
       "3  lit_reg         0.261134    11858   7.171454   3307"
      ]
     },
     "execution_count": 8,
     "metadata": {},
     "output_type": "execute_result"
    }
   ],
   "source": [
    "info"
   ]
  },
  {
   "cell_type": "code",
   "execution_count": 9,
   "metadata": {},
   "outputs": [],
   "source": [
    "def overlap(red1,red2):\n",
    "    cant=0\n",
    "    for edge in red1.edges():\n",
    "        if edge in red2.edges():\n",
    "            cant+=1\n",
    "            \n",
    "    return cant/red1.number_of_edges()"
   ]
  },
  {
   "cell_type": "code",
   "execution_count": 10,
   "metadata": {},
   "outputs": [
    {
     "data": {
      "text/plain": [
       "0.14310915104740904"
      ]
     },
     "execution_count": 10,
     "metadata": {},
     "output_type": "execute_result"
    }
   ],
   "source": [
    "overlap(G1,G2)"
   ]
  },
  {
   "cell_type": "code",
   "execution_count": 11,
   "metadata": {},
   "outputs": [],
   "source": [
    "nombres=['apms','YID_lit','y2h','lit_reg']\n",
    "grafos=[G1,G2,G3,G4]\n",
    "columna=[0]*4\n",
    "for j in np.arange(4):\n",
    "    columna[j]=[0,0,0,0]\n",
    "    for i in np.arange(4):\n",
    "        if i==j:\n",
    "            columna[j][i]=nombres[i]\n",
    "        else:\n",
    "            columna[j][i]=overlap(grafos[i],grafos[j])\n",
    "            \n",
    "tabla2=pd.DataFrame(columna)"
   ]
  },
  {
   "cell_type": "code",
   "execution_count": 12,
   "metadata": {},
   "outputs": [
    {
     "data": {
      "text/html": [
       "<div>\n",
       "<style scoped>\n",
       "    .dataframe tbody tr th:only-of-type {\n",
       "        vertical-align: middle;\n",
       "    }\n",
       "\n",
       "    .dataframe tbody tr th {\n",
       "        vertical-align: top;\n",
       "    }\n",
       "\n",
       "    .dataframe thead th {\n",
       "        text-align: right;\n",
       "    }\n",
       "</style>\n",
       "<table border=\"1\" class=\"dataframe\">\n",
       "  <thead>\n",
       "    <tr style=\"text-align: right;\">\n",
       "      <th></th>\n",
       "      <th>0</th>\n",
       "      <th>1</th>\n",
       "      <th>2</th>\n",
       "      <th>3</th>\n",
       "    </tr>\n",
       "  </thead>\n",
       "  <tbody>\n",
       "    <tr>\n",
       "      <th>0</th>\n",
       "      <td>apms</td>\n",
       "      <td>0.443761</td>\n",
       "      <td>0.0887372</td>\n",
       "      <td>0.212515</td>\n",
       "    </tr>\n",
       "    <tr>\n",
       "      <th>1</th>\n",
       "      <td>0.143109</td>\n",
       "      <td>YID_lit</td>\n",
       "      <td>0.0887372</td>\n",
       "      <td>0.241187</td>\n",
       "    </tr>\n",
       "    <tr>\n",
       "      <th>2</th>\n",
       "      <td>0.0286659</td>\n",
       "      <td>0.0888889</td>\n",
       "      <td>y2h</td>\n",
       "      <td>0.0403947</td>\n",
       "    </tr>\n",
       "    <tr>\n",
       "      <th>3</th>\n",
       "      <td>0.277839</td>\n",
       "      <td>0.977778</td>\n",
       "      <td>0.163481</td>\n",
       "      <td>lit_reg</td>\n",
       "    </tr>\n",
       "  </tbody>\n",
       "</table>\n",
       "</div>"
      ],
      "text/plain": [
       "           0          1          2          3\n",
       "0       apms   0.443761  0.0887372   0.212515\n",
       "1   0.143109    YID_lit  0.0887372   0.241187\n",
       "2  0.0286659  0.0888889        y2h  0.0403947\n",
       "3   0.277839   0.977778   0.163481    lit_reg"
      ]
     },
     "execution_count": 12,
     "metadata": {},
     "output_type": "execute_result"
    }
   ],
   "source": [
    "tabla2"
   ]
  },
  {
   "cell_type": "code",
   "execution_count": 13,
   "metadata": {},
   "outputs": [],
   "source": [
    "fnessential = os.path.join(directorio,'tc02Data/Essential_ORFs_paperHe.txt')\n",
    "essential=ldata(fnessential)\n",
    "essential=[row[1] for row in essential[2:-4]]"
   ]
  },
  {
   "cell_type": "code",
   "execution_count": 14,
   "metadata": {},
   "outputs": [],
   "source": [
    "def essentialhubs(grafo,essential):\n",
    "    Nodos=sorted(grafo.degree, key=lambda x: x[1], reverse=True)\n",
    "    CantidadHubs=np.arange(len(Nodos)+1)\n",
    "    CantidadEssential=[0]\n",
    "    PorcEssential=[0]\n",
    "    contador=1\n",
    "    for nodo in Nodos:\n",
    "        if nodo[0] in essential:\n",
    "            CantidadEssential.append(CantidadEssential[-1]+1)\n",
    "        else:\n",
    "            CantidadEssential.append(CantidadEssential[-1])\n",
    "        PorcEssential.append(CantidadEssential[-1]/CantidadHubs[contador])\n",
    "        #print(CantidadHubs[contador],contador)\n",
    "        contador+=1\n",
    "    CantidadHubs=np.array(CantidadHubs)/len(Nodos)\n",
    "    return [CantidadHubs,PorcEssential]"
   ]
  },
  {
   "cell_type": "code",
   "execution_count": 15,
   "metadata": {},
   "outputs": [
    {
     "data": {
      "image/png": "[encoded data removed]",
      "text/plain": [
       "<Figure size 432x288 with 1 Axes>"
      ]
     },
     "metadata": {
      "needs_background": "light"
     },
     "output_type": "display_data"
    }
   ],
   "source": [
    "for i in np.arange(4):\n",
    "    cantidad,esencial=essentialhubs(grafos[i],essential)\n",
    "    \n",
    "    plt.plot(cantidad,esencial)   \n",
    "plt.show()"
   ]
  },
  {
   "cell_type": "code",
   "execution_count": 16,
   "metadata": {},
   "outputs": [],
   "source": [
    "#.degree\n",
    "#eigenvector_centrality(G, max_iter=100, tol=1e-06, nstart=None, weight=None)\n",
    "#subgraph_centrality(G)\n",
    "#betweenness_centrality(G, k=None, normalized=True, weight=None, endpoints=False, seed=None)\n",
    "#current_flow_closeness_centrality(G, weight='weight', dtype=<type 'float'>, solver='lu')\n",
    "#len(max(nx.connected_component_subgraphs(G1), key=len).nodes())"
   ]
  },
  {
   "cell_type": "code",
   "execution_count": 136,
   "metadata": {},
   "outputs": [],
   "source": [
    "import random"
   ]
  },
  {
   "cell_type": "code",
   "execution_count": 137,
   "metadata": {},
   "outputs": [],
   "source": [
    "def vulnerability(Grafo,essential):\n",
    "    randomlist=[]\n",
    "    fraccion=[]\n",
    "    tamaño=len(list(Grafo.nodes()))\n",
    "    G=Grafo.copy()\n",
    "    i=0\n",
    "    #El primer cuarto del grafo, sacamos de a 10 nodos por cada vez que elegimos la compontente mayor\n",
    "    while len(G)>len(Grafo)*3/4:\n",
    "            componente=max(nx.connected_component_subgraphs(G), key=len) #Elegimos componente\n",
    "            randomlist.append(len(componente)/tamaño) # tamaño de la componente (normalizado)\n",
    "            fraccion.append(i/tamaño) #Cantidad de nodos que sacamos (normalizado)\n",
    "            for j in np.arange(10): #Elegimos el proximo nodo a sacar\n",
    "                nodo=random.choice(list(componente.nodes())) \n",
    "                G.remove_node(nodo)\n",
    "                componente.remove_node(nodo)\n",
    "                i+=1\n",
    "    #El segundo cuarto sacamos nodos eligiendo en cada paso la componente mayor. Paramos cuando el grafo está a la mitad de su tamaño original\n",
    "    while len(G)>len(Grafo)/2:\n",
    "            componente=max(nx.connected_component_subgraphs(G), key=len)\n",
    "            randomlist.append(len(componente)/tamaño)\n",
    "            fraccion.append(i/tamaño)\n",
    "            nodo=random.choice(list(componente.nodes()))\n",
    "            G.remove_node(nodo)\n",
    "            i+=1\n",
    "\n",
    "    return fraccion,randomlist"
   ]
  },
  {
   "cell_type": "code",
   "execution_count": 138,
   "metadata": {},
   "outputs": [],
   "source": [
    "def vulnerabilitygrado(Grafo,essential):\n",
    "    gradolist=[]\n",
    "    fraccion=[]\n",
    "    tamaño=len(list(Grafo.nodes()))\n",
    "    G=Grafo.copy()\n",
    "    i=0\n",
    "#    Nodos=sorted(G.degree, key=lambda x: x[1], reverse=True)\n",
    "    while len(G)>len(Grafo)*3/4:\n",
    "            componente=max(nx.connected_component_subgraphs(G), key=len)\n",
    "            gradolist.append(len(componente)/tamaño)\n",
    "            fraccion.append(i/tamaño)\n",
    "            for j in np.arange(10):\n",
    "                nodo=max(componente.degree)\n",
    "                G.remove_node(nodo[0])\n",
    "                componente.remove_node(nodo[0])\n",
    "                i+=1\n",
    "    while len(G)>len(Grafo)/2:\n",
    "            componente=max(nx.connected_component_subgraphs(G), key=len)\n",
    "            gradolist.append(len(componente)/tamaño)\n",
    "            fraccion.append(i/tamaño)\n",
    "            nodo=max(componente.degree)\n",
    "            G.remove_node(nodo[0])\n",
    "\n",
    "            i+=1\n",
    "\n",
    "    return fraccion,gradolist"
   ]
  },
  {
   "cell_type": "code",
   "execution_count": 139,
   "metadata": {},
   "outputs": [],
   "source": [
    "def vulnerabilityautovec(Grafo,essential):\n",
    "    autoveclist=[]\n",
    "    fraccion=[]\n",
    "    tamaño=len(list(Grafo.nodes()))\n",
    "    G=Grafo.copy()\n",
    "    i=0\n",
    "    while len(G)>len(Grafo)*3/4:\n",
    "            componente=max(nx.connected_component_subgraphs(G), key=len)\n",
    "            autoveclist.append(len(componente)/tamaño)\n",
    "            fraccion.append(i/tamaño)\n",
    "            for j in np.arange(10):\n",
    "                nodo=max(nx.eigenvector_centrality(componente))\n",
    "                G.remove_node(nodo)\n",
    "                componente.remove_node(nodo)\n",
    "                i+=1    \n",
    "    while len(G)>len(Grafo)/2:\n",
    "        componente=max(nx.connected_component_subgraphs(G), key=len)\n",
    "        autoveclist.append(len(componente)/tamaño)\n",
    "        fraccion.append(i/tamaño)\n",
    "        nodo=max(nx.eigenvector_centrality(componente))\n",
    "        G.remove_node(nodo)\n",
    "        i+=1\n",
    "    return fraccion,autoveclist"
   ]
  },
  {
   "cell_type": "code",
   "execution_count": 140,
   "metadata": {},
   "outputs": [],
   "source": [
    "def vulnerabilitysubgraph(Grafo,essential):\n",
    "    subgraphlist=[]\n",
    "    fraccion=[]\n",
    "    tamaño=len(list(Grafo.nodes()))\n",
    "    G=Grafo.copy()\n",
    "    i=0\n",
    "    while len(G)>len(Grafo)*3/4:\n",
    "            componente=max(nx.connected_component_subgraphs(G), key=len)\n",
    "            subgraphlist.append(len(componente)/tamaño)\n",
    "            fraccion.append(i/tamaño)\n",
    "            for j in np.arange(10):\n",
    "                nodo=max(nx.subgraph_centrality(componente))\n",
    "                G.remove_node(nodo)\n",
    "                componente.remove_node(nodo)\n",
    "                i+=1\n",
    "    while len(G)>len(Grafo)/2:\n",
    "        componente=max(nx.connected_component_subgraphs(G), key=len)\n",
    "        subgraphlist.append(len(componente)/tamaño)\n",
    "        fraccion.append(i/tamaño)\n",
    "        nodo=max(nx.subgraph_centrality(componente))\n",
    "        G.remove_node(nodo)\n",
    "        i+=1\n",
    "    return fraccion,subgraphlist"
   ]
  },
  {
   "cell_type": "code",
   "execution_count": 141,
   "metadata": {},
   "outputs": [],
   "source": [
    "def vulnerabilitybetweeness(Grafo,essential):\n",
    "    betweenesslist=[]\n",
    "    fraccion=[]\n",
    "    tamaño=len(list(Grafo.nodes()))\n",
    "    G=Grafo.copy()\n",
    "    i=0\n",
    "    while len(G)>len(Grafo)*3/4:\n",
    "            componente=max(nx.connected_component_subgraphs(G), key=len)\n",
    "            betweenesslist.append(len(componente)/tamaño)\n",
    "            fraccion.append(i/tamaño)\n",
    "            for j in np.arange(10):\n",
    "                nodo=max(nx.betweenness_centrality(componente, k=None, normalized=True, weight=None, endpoints=False, seed=None))\n",
    "                componente.remove_node(nodo)\n",
    "                G.remove_node(nodo)\n",
    "                i+=1    \n",
    "    while len(G)>len(Grafo)/2:\n",
    "        componente=max(nx.connected_component_subgraphs(G), key=len)\n",
    "        betweenesslist.append(len(componente)/tamaño)\n",
    "        fraccion.append(i/tamaño)\n",
    "        nodo=max(nx.betweenness_centrality(componente, k=None, normalized=True, weight=None, endpoints=False, seed=None))\n",
    "        G.remove_node(nodo)\n",
    "        i+=1\n",
    "    return fraccion,betweenesslist"
   ]
  },
  {
   "cell_type": "code",
   "execution_count": 142,
   "metadata": {},
   "outputs": [],
   "source": [
    "def vulnerabilityflow(Grafo,essential):\n",
    "    flowlist=[]\n",
    "    fraccion=[]\n",
    "    tamaño=len(list(Grafo.nodes()))\n",
    "    G=Grafo.copy()\n",
    "    i=0\n",
    "    Nodos=sorted(nx.current_flow_closeness_centrality(max(nx.connected_component_subgraphs(G), key=len), weight=None, solver='lu'), key=lambda x: x[1], reverse=True)\n",
    "  \n",
    "    while len(G)>len(Grafo)/2:\n",
    "        componente=max(nx.connected_component_subgraphs(G), key=len)\n",
    "        flowlist.append(len(componente)/tamaño)\n",
    "        fraccion.append(i/tamaño)\n",
    "        nodo=max(nx.current_flow_closeness_centrality(componente))\n",
    "        G.remove_node(nodo)\n",
    "        i+=1\n",
    "    return fraccion,flowlist"
   ]
  },
  {
   "cell_type": "code",
   "execution_count": 143,
   "metadata": {},
   "outputs": [],
   "source": [
    "def vulnerabilityessential(Grafo,essential):\n",
    "    G=Grafo.copy()\n",
    "    tamaño=len(list(Grafo.nodes()))\n",
    "    for nodo in Grafo.nodes():\n",
    "        if nodo in essential:\n",
    "            G.remove_node(nodo)\n",
    "            \n",
    "    essential=len(max(nx.connected_component_subgraphs(G), key=len).nodes())/tamaño\n",
    "    fraccion3=(len(Grafo)-len(G))/tamaño\n",
    "\n",
    "    return fraccion3,essential,len(Grafo)-len(G)"
   ]
  },
  {
   "cell_type": "code",
   "execution_count": null,
   "metadata": {},
   "outputs": [],
   "source": [
    "#No correr estos, salvo que queramos probar uno por uno"
   ]
  },
  {
   "cell_type": "code",
   "execution_count": 26,
   "metadata": {},
   "outputs": [],
   "source": [
    "f1,lc=vulnerability(G1,essential)"
   ]
  },
  {
   "cell_type": "code",
   "execution_count": 27,
   "metadata": {},
   "outputs": [],
   "source": [
    "f2,vgrado=vulnerabilitygrado(G1,essential)"
   ]
  },
  {
   "cell_type": "code",
   "execution_count": 32,
   "metadata": {},
   "outputs": [],
   "source": [
    "f3,lcautovec=vulnerabilityautovec(G1,essential)"
   ]
  },
  {
   "cell_type": "code",
   "execution_count": 33,
   "metadata": {},
   "outputs": [],
   "source": [
    "f4,lcsubgraph=vulnerabilitysubgraph(G1,essential)"
   ]
  },
  {
   "cell_type": "code",
   "execution_count": 34,
   "metadata": {},
   "outputs": [
    {
     "name": "stdout",
     "output_type": "stream",
     "text": [
      "YPR190C\n",
      "YPR189W\n",
      "YPR188C\n",
      "YPR187W\n",
      "YPR182W\n",
      "YPR178W\n",
      "YPR175W\n",
      "YPR174C\n",
      "YPR171W\n",
      "YPR169W\n",
      "YPR168W\n",
      "YPR149W\n",
      "YPR144C\n",
      "YPR140W\n",
      "YPR137W\n",
      "YPR112C\n",
      "YPR110C\n",
      "YPR108W\n",
      "YPR107C\n",
      "YPR103W\n",
      "YPR102C\n",
      "YPR101W\n",
      "YPR093C\n",
      "YPR088C\n",
      "YPR082C\n",
      "YPR080W\n",
      "YPR070W\n",
      "YPR067W\n",
      "YPR057W\n",
      "YPR052C\n",
      "YPR041W\n",
      "YPR036W\n",
      "YPR035W\n",
      "YPR034W\n",
      "YPR023C\n",
      "YPR016C\n",
      "YPR010C\n",
      "YPL266W\n",
      "YPL254W\n",
      "YPL249CA\n",
      "YPL249C\n",
      "YPL243W\n",
      "YPL240C\n",
      "YPL237W\n",
      "YPL235W\n",
      "YPL231W\n",
      "YPL220W\n",
      "YPL219W\n",
      "YPL217C\n",
      "YPL213W\n",
      "YPL211W\n",
      "YPL210C\n",
      "YPL208W\n",
      "YPL204W\n",
      "YPL198W\n",
      "YPL190C\n",
      "YPL181W\n",
      "YPL178W\n",
      "YPL153C\n",
      "YPL151C\n",
      "YPL146C\n",
      "YPL143W\n",
      "YPL139C\n",
      "YPL138C\n",
      "YPL137C\n",
      "YPL131W\n",
      "YPL129W\n",
      "YPL126W\n",
      "YPL118W\n",
      "YPL093W\n",
      "YPL090C\n",
      "YPL082C\n",
      "YPL081W\n",
      "YPL050C\n",
      "YPL048W\n",
      "YPL047W\n",
      "YPL043W\n",
      "YPL042C\n",
      "YPL037C\n",
      "YPL031C\n",
      "YPL020C\n",
      "YPL016W\n",
      "YPL013C\n",
      "YPL012W\n",
      "YPL011C\n",
      "YPL010W\n",
      "YPL004C\n",
      "YPL001W\n",
      "YOR370C\n",
      "YOR362C\n",
      "YOR361C\n",
      "YOR341W\n",
      "YOR340C\n",
      "YOR332W\n",
      "YOR326W\n",
      "YOR319W\n",
      "YOR312C\n",
      "YOR310C\n",
      "YOR308C\n",
      "YOR304W\n",
      "YOR303W\n",
      "YOR294W\n",
      "YOR290C\n",
      "YOR281C\n",
      "YOR276W\n",
      "YOR272W\n",
      "YOR270C\n",
      "YOR261C\n",
      "YOR260W\n",
      "YOR259C\n",
      "YOR250C\n",
      "YOR244W\n",
      "YOR234C\n",
      "YOR224C\n",
      "YOR210W\n",
      "YOR207C\n",
      "YOR206W\n",
      "YOR204W\n",
      "YOR198C\n",
      "YOR179C\n",
      "YOR174W\n",
      "YOR160W\n",
      "YOR159C\n",
      "YOR157C\n",
      "YOR151C\n",
      "YOR145C\n",
      "YOR141C\n",
      "YOR138C\n",
      "YOR136W\n",
      "YOR133W\n",
      "YOR124C\n",
      "YOR123C\n",
      "YOR117W\n",
      "YOR116C\n",
      "YOR115C\n",
      "YOR098C\n",
      "YOR096W\n",
      "YOR078W\n",
      "YOR076C\n",
      "YOR063W\n",
      "YOR061W\n",
      "YOR058C\n",
      "YOR056C\n",
      "YOR054C\n",
      "YOR048C\n",
      "YOR039W\n",
      "YOR027W\n",
      "YOR001W\n",
      "YOL149W\n",
      "YOL148C\n",
      "YOL145C\n",
      "YOL144W\n",
      "YOL142W\n",
      "YOL139C\n",
      "YOL135C\n",
      "YOL127W\n",
      "YOL120C\n",
      "YOL117W\n",
      "YOL115W\n",
      "YOL090W\n",
      "YOL086C\n",
      "YOL077C\n",
      "YOL070C\n",
      "YOL068C\n",
      "YOL063C\n",
      "YOL054W\n",
      "YOL051W\n",
      "YOL041C\n",
      "YOL040C\n",
      "YOL039W\n",
      "YOL038W\n",
      "YOL021C\n",
      "YOL017W\n",
      "YOL012C\n",
      "YOL010W\n",
      "YOL005C\n",
      "YOL004W\n",
      "YOL001W\n",
      "YNR054C\n",
      "YNR053C\n",
      "YNR024W\n",
      "YNR023W\n",
      "YNR010W\n",
      "YNR003C\n",
      "YNL330C\n",
      "YNL317W\n",
      "YNL312W\n",
      "YNL308C\n",
      "YNL302C\n",
      "YNL301C\n",
      "YNL287W\n",
      "YNL286W\n",
      "YNL262W\n",
      "YNL253W\n",
      "YNL251C\n",
      "YNL244C\n",
      "YNL236W\n",
      "YNL233W\n",
      "YNL232W\n",
      "YNL224C\n",
      "YNL222W\n",
      "YNL215W\n",
      "YNL212W\n",
      "YNL209W\n",
      "YNL207W\n",
      "YNL189W\n",
      "YNL182C\n",
      "YNL178W\n",
      "YNL147W\n",
      "YNL139C\n",
      "YNL138W\n",
      "YNL136W\n",
      "YNL132W\n",
      "YNL118C\n",
      "YNL112W\n",
      "YNL110C\n",
      "YNL107W\n",
      "YNL106C\n",
      "YNL097C\n",
      "YNL096C\n",
      "YNL085W\n",
      "YNL078W\n",
      "YNL075W\n",
      "YNL069C\n",
      "YNL067W\n",
      "YNL064C\n",
      "YNL061W\n",
      "YNL059C\n",
      "YNL055C\n",
      "YNL031C\n",
      "YNL030W\n",
      "YNL025C\n",
      "YNL004W\n",
      "YNL002C\n",
      "YMR314W\n",
      "YMR311C\n",
      "YMR310C\n",
      "YMR309C\n",
      "YMR308C\n",
      "YMR290C\n",
      "YMR288W\n",
      "YMR268C\n",
      "YMR263W\n",
      "YMR258C\n",
      "YMR242C\n",
      "YMR240C\n",
      "YMR236W\n",
      "YMR230W\n",
      "YMR229C\n",
      "YMR227C\n",
      "YMR223W\n",
      "YMR218C\n",
      "YMR213W\n",
      "YMR205C\n",
      "YMR194W\n",
      "YMR191W\n",
      "YMR186W\n",
      "YMR172W\n",
      "YMR146C\n",
      "YMR143W\n",
      "YMR142C\n",
      "YMR139W\n",
      "YMR135C\n",
      "YMR128W\n",
      "YMR125W\n",
      "YMR120C\n",
      "YMR116C\n",
      "YMR112C\n",
      "YMR109W\n",
      "YMR093W\n",
      "YMR091C\n",
      "YMR083W\n",
      "YMR075W\n",
      "YMR072W\n",
      "YMR061W\n",
      "YMR049C\n",
      "YMR033W\n",
      "YMR025W\n",
      "YMR012W\n",
      "YMR005W\n",
      "YML127W\n",
      "YML117W\n",
      "YML105C\n",
      "YML098W\n",
      "YML092C\n",
      "YML077W\n",
      "YML074C\n",
      "YML073C\n",
      "YML072C\n",
      "YML069W\n",
      "YML063W\n",
      "YML062C\n",
      "YML057W\n",
      "YML056C\n",
      "YML049C\n",
      "YML046W\n",
      "YML041C\n",
      "YML032C\n",
      "YML028W\n",
      "YML026C\n",
      "YML024W\n",
      "YML016C\n",
      "YML015C\n",
      "YML007W\n",
      "YLR449W\n",
      "YLR448W\n",
      "YLR447C\n",
      "YLR441C\n",
      "YLR438CA\n",
      "YLR435W\n",
      "YLR433C\n",
      "YLR432W\n",
      "YLR429W\n",
      "YLR424W\n",
      "YLR421C\n",
      "YLR418C\n",
      "YLR409C\n",
      "YLR406C\n",
      "YLR399C\n",
      "YLR398C\n",
      "YLR385C\n",
      "YLR367W\n",
      "YLR357W\n",
      "YLR347C\n",
      "YLR344W\n",
      "YLR342W\n",
      "YLR340W\n",
      "YLR335W\n",
      "YLR325C\n",
      "YLR321C\n",
      "YLR298C\n",
      "YLR291C\n",
      "YLR287CA\n",
      "YLR277C\n",
      "YLR276C\n",
      "YLR275W\n",
      "YLR264W\n",
      "YLR259C\n",
      "YLR249W\n",
      "YLR223C\n",
      "YLR222C\n",
      "YLR215C\n",
      "YLR197W\n",
      "YLR196W\n",
      "YLR192C\n",
      "YLR186W\n",
      "YLR180W\n",
      "YLR175W\n",
      "YLR150W\n",
      "YLR147C\n",
      "YLR129W\n",
      "YLR117C\n",
      "YLR115W\n",
      "YLR106C\n",
      "YLR085C\n",
      "YLR075W\n",
      "YLR074C\n",
      "YLR071C\n",
      "YLR055C\n",
      "YLR052W\n",
      "YLR048W\n",
      "YLR044C\n",
      "YLR033W\n",
      "YLR029C\n",
      "YLR028C\n",
      "YLR015W\n",
      "YLR002C\n",
      "YLL045C\n",
      "YLL040C\n",
      "YLL036C\n",
      "YLL034C\n",
      "YLL022C\n",
      "YLL011W\n",
      "YLL008W\n",
      "YKR081C\n",
      "YKR072C\n",
      "YKR068C\n",
      "YKR060W\n",
      "YKR059W\n",
      "YKR048C\n",
      "YKR026C\n",
      "YKR022C\n",
      "YKR014C\n",
      "YKR002W\n",
      "YKL193C\n",
      "YKL191W\n",
      "YKL182W\n",
      "YKL180W\n",
      "YKL173W\n",
      "YKL172W\n",
      "YKL168C\n",
      "YKL152C\n",
      "YKL145W\n",
      "YKL143W\n",
      "YKL142W\n",
      "YKL122C\n",
      "YKL104C\n",
      "YKL088W\n",
      "YKL081W\n",
      "YKL080W\n",
      "YKL060C\n",
      "YKL059C\n",
      "YKL046C\n",
      "YKL029C\n",
      "YKL023W\n",
      "YKL018W\n",
      "YKL014C\n",
      "YKL012W\n",
      "YKL009W\n",
      "YJR145C\n"
     ]
    }
   ],
   "source": [
    "f5,lcbetweeness=vulnerabilitybetweeness(G1,essential)"
   ]
  },
  {
   "cell_type": "code",
   "execution_count": 98,
   "metadata": {},
   "outputs": [
    {
     "ename": "KeyboardInterrupt",
     "evalue": "",
     "output_type": "error",
     "traceback": [
      "\u001b[0;31m---------------------------------------------------------------------------\u001b[0m",
      "\u001b[0;31mKeyboardInterrupt\u001b[0m                         Traceback (most recent call last)",
      "\u001b[0;32m<ipython-input-98-33ca8133bae3>\u001b[0m in \u001b[0;36m<module>\u001b[0;34m\u001b[0m\n\u001b[0;32m----> 1\u001b[0;31m \u001b[0mf6\u001b[0m\u001b[0;34m,\u001b[0m\u001b[0mlcflow\u001b[0m\u001b[0;34m=\u001b[0m\u001b[0mvulnerabilityflow\u001b[0m\u001b[0;34m(\u001b[0m\u001b[0mG1\u001b[0m\u001b[0;34m,\u001b[0m\u001b[0messential\u001b[0m\u001b[0;34m)\u001b[0m\u001b[0;34m\u001b[0m\u001b[0m\n\u001b[0m",
      "\u001b[0;32m<ipython-input-24-1e53caec3e2d>\u001b[0m in \u001b[0;36mvulnerabilityflow\u001b[0;34m(Grafo, essential)\u001b[0m\n\u001b[1;32m      8\u001b[0m \u001b[0;34m\u001b[0m\u001b[0m\n\u001b[1;32m      9\u001b[0m     \u001b[0;32mwhile\u001b[0m \u001b[0mlen\u001b[0m\u001b[0;34m(\u001b[0m\u001b[0mG\u001b[0m\u001b[0;34m)\u001b[0m\u001b[0;34m>\u001b[0m\u001b[0mlen\u001b[0m\u001b[0;34m(\u001b[0m\u001b[0mGrafo\u001b[0m\u001b[0;34m)\u001b[0m\u001b[0;34m/\u001b[0m\u001b[0;36m2\u001b[0m\u001b[0;34m:\u001b[0m\u001b[0;34m\u001b[0m\u001b[0m\n\u001b[0;32m---> 10\u001b[0;31m         \u001b[0mcomponente\u001b[0m\u001b[0;34m=\u001b[0m\u001b[0mmax\u001b[0m\u001b[0;34m(\u001b[0m\u001b[0mnx\u001b[0m\u001b[0;34m.\u001b[0m\u001b[0mconnected_component_subgraphs\u001b[0m\u001b[0;34m(\u001b[0m\u001b[0mG\u001b[0m\u001b[0;34m)\u001b[0m\u001b[0;34m,\u001b[0m \u001b[0mkey\u001b[0m\u001b[0;34m=\u001b[0m\u001b[0mlen\u001b[0m\u001b[0;34m)\u001b[0m\u001b[0;34m\u001b[0m\u001b[0m\n\u001b[0m\u001b[1;32m     11\u001b[0m         \u001b[0mflowlist\u001b[0m\u001b[0;34m.\u001b[0m\u001b[0mappend\u001b[0m\u001b[0;34m(\u001b[0m\u001b[0mlen\u001b[0m\u001b[0;34m(\u001b[0m\u001b[0mcomponente\u001b[0m\u001b[0;34m)\u001b[0m\u001b[0;34m/\u001b[0m\u001b[0mtamaño\u001b[0m\u001b[0;34m)\u001b[0m\u001b[0;34m\u001b[0m\u001b[0m\n\u001b[1;32m     12\u001b[0m         \u001b[0mfraccion\u001b[0m\u001b[0;34m.\u001b[0m\u001b[0mappend\u001b[0m\u001b[0;34m(\u001b[0m\u001b[0mi\u001b[0m\u001b[0;34m/\u001b[0m\u001b[0mtamaño\u001b[0m\u001b[0;34m)\u001b[0m\u001b[0;34m\u001b[0m\u001b[0m\n",
      "\u001b[0;32m/usr/local/lib/python3.5/dist-packages/networkx/algorithms/components/connected.py\u001b[0m in \u001b[0;36mconnected_component_subgraphs\u001b[0;34m(G, copy)\u001b[0m\n\u001b[1;32m     87\u001b[0m     \u001b[0;32mfor\u001b[0m \u001b[0mc\u001b[0m \u001b[0;32min\u001b[0m \u001b[0mconnected_components\u001b[0m\u001b[0;34m(\u001b[0m\u001b[0mG\u001b[0m\u001b[0;34m)\u001b[0m\u001b[0;34m:\u001b[0m\u001b[0;34m\u001b[0m\u001b[0m\n\u001b[1;32m     88\u001b[0m         \u001b[0;32mif\u001b[0m \u001b[0mcopy\u001b[0m\u001b[0;34m:\u001b[0m\u001b[0;34m\u001b[0m\u001b[0m\n\u001b[0;32m---> 89\u001b[0;31m             \u001b[0;32myield\u001b[0m \u001b[0mG\u001b[0m\u001b[0;34m.\u001b[0m\u001b[0msubgraph\u001b[0m\u001b[0;34m(\u001b[0m\u001b[0mc\u001b[0m\u001b[0;34m)\u001b[0m\u001b[0;34m.\u001b[0m\u001b[0mcopy\u001b[0m\u001b[0;34m(\u001b[0m\u001b[0;34m)\u001b[0m\u001b[0;34m\u001b[0m\u001b[0m\n\u001b[0m\u001b[1;32m     90\u001b[0m         \u001b[0;32melse\u001b[0m\u001b[0;34m:\u001b[0m\u001b[0;34m\u001b[0m\u001b[0m\n\u001b[1;32m     91\u001b[0m             \u001b[0;32myield\u001b[0m \u001b[0mG\u001b[0m\u001b[0;34m.\u001b[0m\u001b[0msubgraph\u001b[0m\u001b[0;34m(\u001b[0m\u001b[0mc\u001b[0m\u001b[0;34m)\u001b[0m\u001b[0;34m\u001b[0m\u001b[0m\n",
      "\u001b[0;32m/usr/local/lib/python3.5/dist-packages/networkx/classes/graph.py\u001b[0m in \u001b[0;36mcopy\u001b[0;34m(self, as_view)\u001b[0m\n\u001b[1;32m   1530\u001b[0m         \u001b[0mG\u001b[0m\u001b[0;34m.\u001b[0m\u001b[0madd_nodes_from\u001b[0m\u001b[0;34m(\u001b[0m\u001b[0;34m(\u001b[0m\u001b[0mn\u001b[0m\u001b[0;34m,\u001b[0m \u001b[0md\u001b[0m\u001b[0;34m.\u001b[0m\u001b[0mcopy\u001b[0m\u001b[0;34m(\u001b[0m\u001b[0;34m)\u001b[0m\u001b[0;34m)\u001b[0m \u001b[0;32mfor\u001b[0m \u001b[0mn\u001b[0m\u001b[0;34m,\u001b[0m \u001b[0md\u001b[0m \u001b[0;32min\u001b[0m \u001b[0mself\u001b[0m\u001b[0;34m.\u001b[0m\u001b[0m_node\u001b[0m\u001b[0;34m.\u001b[0m\u001b[0mitems\u001b[0m\u001b[0;34m(\u001b[0m\u001b[0;34m)\u001b[0m\u001b[0;34m)\u001b[0m\u001b[0;34m\u001b[0m\u001b[0m\n\u001b[1;32m   1531\u001b[0m         G.add_edges_from((u, v, datadict.copy())\n\u001b[0;32m-> 1532\u001b[0;31m                          \u001b[0;32mfor\u001b[0m \u001b[0mu\u001b[0m\u001b[0;34m,\u001b[0m \u001b[0mnbrs\u001b[0m \u001b[0;32min\u001b[0m \u001b[0mself\u001b[0m\u001b[0;34m.\u001b[0m\u001b[0m_adj\u001b[0m\u001b[0;34m.\u001b[0m\u001b[0mitems\u001b[0m\u001b[0;34m(\u001b[0m\u001b[0;34m)\u001b[0m\u001b[0;34m\u001b[0m\u001b[0m\n\u001b[0m\u001b[1;32m   1533\u001b[0m                          for v, datadict in nbrs.items())\n\u001b[1;32m   1534\u001b[0m         \u001b[0;32mreturn\u001b[0m \u001b[0mG\u001b[0m\u001b[0;34m\u001b[0m\u001b[0m\n",
      "\u001b[0;32m/usr/local/lib/python3.5/dist-packages/networkx/classes/graph.py\u001b[0m in \u001b[0;36madd_edges_from\u001b[0;34m(self, ebunch_to_add, **attr)\u001b[0m\n\u001b[1;32m    942\u001b[0m         \"\"\"\n\u001b[1;32m    943\u001b[0m         \u001b[0;32mfor\u001b[0m \u001b[0me\u001b[0m \u001b[0;32min\u001b[0m \u001b[0mebunch_to_add\u001b[0m\u001b[0;34m:\u001b[0m\u001b[0;34m\u001b[0m\u001b[0m\n\u001b[0;32m--> 944\u001b[0;31m             \u001b[0mne\u001b[0m \u001b[0;34m=\u001b[0m \u001b[0mlen\u001b[0m\u001b[0;34m(\u001b[0m\u001b[0me\u001b[0m\u001b[0;34m)\u001b[0m\u001b[0;34m\u001b[0m\u001b[0m\n\u001b[0m\u001b[1;32m    945\u001b[0m             \u001b[0;32mif\u001b[0m \u001b[0mne\u001b[0m \u001b[0;34m==\u001b[0m \u001b[0;36m3\u001b[0m\u001b[0;34m:\u001b[0m\u001b[0;34m\u001b[0m\u001b[0m\n\u001b[1;32m    946\u001b[0m                 \u001b[0mu\u001b[0m\u001b[0;34m,\u001b[0m \u001b[0mv\u001b[0m\u001b[0;34m,\u001b[0m \u001b[0mdd\u001b[0m \u001b[0;34m=\u001b[0m \u001b[0me\u001b[0m\u001b[0;34m\u001b[0m\u001b[0m\n",
      "\u001b[0;31mKeyboardInterrupt\u001b[0m: "
     ]
    }
   ],
   "source": [
    "f6,lcflow=vulnerabilityflow(G1,essential)"
   ]
  },
  {
   "cell_type": "code",
   "execution_count": 36,
   "metadata": {},
   "outputs": [],
   "source": [
    "f7,lcessential,cant=vulnerabilityessential(G1,essential)"
   ]
  },
  {
   "cell_type": "code",
   "execution_count": 145,
   "metadata": {},
   "outputs": [
    {
     "ename": "KeyboardInterrupt",
     "evalue": "",
     "output_type": "error",
     "traceback": [
      "\u001b[0;31m---------------------------------------------------------------------------\u001b[0m",
      "\u001b[0;31mKeyboardInterrupt\u001b[0m                         Traceback (most recent call last)",
      "\u001b[0;32m<ipython-input-145-69fe6f498afd>\u001b[0m in \u001b[0;36m<module>\u001b[0;34m\u001b[0m\n\u001b[1;32m     10\u001b[0m \u001b[0;31m#f3,lcautovec=vulnerabilityautovec(G,essential)\u001b[0m\u001b[0;34m\u001b[0m\u001b[0;34m\u001b[0m\u001b[0m\n\u001b[1;32m     11\u001b[0m \u001b[0mf4\u001b[0m\u001b[0;34m,\u001b[0m\u001b[0mlcsubgraph\u001b[0m\u001b[0;34m=\u001b[0m\u001b[0mvulnerabilitysubgraph\u001b[0m\u001b[0;34m(\u001b[0m\u001b[0mG\u001b[0m\u001b[0;34m,\u001b[0m\u001b[0messential\u001b[0m\u001b[0;34m)\u001b[0m\u001b[0;34m\u001b[0m\u001b[0m\n\u001b[0;32m---> 12\u001b[0;31m \u001b[0mf5\u001b[0m\u001b[0;34m,\u001b[0m\u001b[0mlcbetweeness\u001b[0m\u001b[0;34m=\u001b[0m\u001b[0mvulnerabilitybetweeness\u001b[0m\u001b[0;34m(\u001b[0m\u001b[0mG\u001b[0m\u001b[0;34m,\u001b[0m\u001b[0messential\u001b[0m\u001b[0;34m)\u001b[0m\u001b[0;34m\u001b[0m\u001b[0m\n\u001b[0m\u001b[1;32m     13\u001b[0m \u001b[0mf6\u001b[0m\u001b[0;34m,\u001b[0m\u001b[0mlcflow\u001b[0m\u001b[0;34m=\u001b[0m\u001b[0mvulnerabilityflow\u001b[0m\u001b[0;34m(\u001b[0m\u001b[0mG\u001b[0m\u001b[0;34m,\u001b[0m\u001b[0messential\u001b[0m\u001b[0;34m)\u001b[0m\u001b[0;34m\u001b[0m\u001b[0m\n\u001b[1;32m     14\u001b[0m \u001b[0mf7\u001b[0m\u001b[0;34m,\u001b[0m\u001b[0mlcessential\u001b[0m\u001b[0;34m,\u001b[0m\u001b[0mcant\u001b[0m\u001b[0;34m=\u001b[0m\u001b[0mvulnerabilityessential\u001b[0m\u001b[0;34m(\u001b[0m\u001b[0mG\u001b[0m\u001b[0;34m,\u001b[0m\u001b[0messential\u001b[0m\u001b[0;34m)\u001b[0m\u001b[0;34m\u001b[0m\u001b[0m\n",
      "\u001b[0;32m<ipython-input-141-61dee7e19c34>\u001b[0m in \u001b[0;36mvulnerabilitybetweeness\u001b[0;34m(Grafo, essential)\u001b[0m\n\u001b[1;32m     10\u001b[0m             \u001b[0mfraccion\u001b[0m\u001b[0;34m.\u001b[0m\u001b[0mappend\u001b[0m\u001b[0;34m(\u001b[0m\u001b[0mi\u001b[0m\u001b[0;34m/\u001b[0m\u001b[0mtamaño\u001b[0m\u001b[0;34m)\u001b[0m\u001b[0;34m\u001b[0m\u001b[0m\n\u001b[1;32m     11\u001b[0m             \u001b[0;32mfor\u001b[0m \u001b[0mj\u001b[0m \u001b[0;32min\u001b[0m \u001b[0mnp\u001b[0m\u001b[0;34m.\u001b[0m\u001b[0marange\u001b[0m\u001b[0;34m(\u001b[0m\u001b[0;36m10\u001b[0m\u001b[0;34m)\u001b[0m\u001b[0;34m:\u001b[0m\u001b[0;34m\u001b[0m\u001b[0m\n\u001b[0;32m---> 12\u001b[0;31m                 \u001b[0mnodo\u001b[0m\u001b[0;34m=\u001b[0m\u001b[0mmax\u001b[0m\u001b[0;34m(\u001b[0m\u001b[0mnx\u001b[0m\u001b[0;34m.\u001b[0m\u001b[0mbetweenness_centrality\u001b[0m\u001b[0;34m(\u001b[0m\u001b[0mcomponente\u001b[0m\u001b[0;34m,\u001b[0m \u001b[0mk\u001b[0m\u001b[0;34m=\u001b[0m\u001b[0;32mNone\u001b[0m\u001b[0;34m,\u001b[0m \u001b[0mnormalized\u001b[0m\u001b[0;34m=\u001b[0m\u001b[0;32mTrue\u001b[0m\u001b[0;34m,\u001b[0m \u001b[0mweight\u001b[0m\u001b[0;34m=\u001b[0m\u001b[0;32mNone\u001b[0m\u001b[0;34m,\u001b[0m \u001b[0mendpoints\u001b[0m\u001b[0;34m=\u001b[0m\u001b[0;32mFalse\u001b[0m\u001b[0;34m,\u001b[0m \u001b[0mseed\u001b[0m\u001b[0;34m=\u001b[0m\u001b[0;32mNone\u001b[0m\u001b[0;34m)\u001b[0m\u001b[0;34m)\u001b[0m\u001b[0;34m\u001b[0m\u001b[0m\n\u001b[0m\u001b[1;32m     13\u001b[0m                 \u001b[0mcomponente\u001b[0m\u001b[0;34m.\u001b[0m\u001b[0mremove_node\u001b[0m\u001b[0;34m(\u001b[0m\u001b[0mnodo\u001b[0m\u001b[0;34m)\u001b[0m\u001b[0;34m\u001b[0m\u001b[0m\n\u001b[1;32m     14\u001b[0m                 \u001b[0mG\u001b[0m\u001b[0;34m.\u001b[0m\u001b[0mremove_node\u001b[0m\u001b[0;34m(\u001b[0m\u001b[0mnodo\u001b[0m\u001b[0;34m)\u001b[0m\u001b[0;34m\u001b[0m\u001b[0m\n",
      "\u001b[0;32m<decorator-gen-228>\u001b[0m in \u001b[0;36mbetweenness_centrality\u001b[0;34m(G, k, normalized, weight, endpoints, seed)\u001b[0m\n",
      "\u001b[0;32m/usr/local/lib/python3.5/dist-packages/networkx/utils/decorators.py\u001b[0m in \u001b[0;36m_random_state\u001b[0;34m(func, *args, **kwargs)\u001b[0m\n\u001b[1;32m    462\u001b[0m         \u001b[0mnew_args\u001b[0m \u001b[0;34m=\u001b[0m \u001b[0mlist\u001b[0m\u001b[0;34m(\u001b[0m\u001b[0margs\u001b[0m\u001b[0;34m)\u001b[0m\u001b[0;34m\u001b[0m\u001b[0m\n\u001b[1;32m    463\u001b[0m         \u001b[0mnew_args\u001b[0m\u001b[0;34m[\u001b[0m\u001b[0mrandom_state_index\u001b[0m\u001b[0;34m]\u001b[0m \u001b[0;34m=\u001b[0m \u001b[0mrandom_state\u001b[0m\u001b[0;34m\u001b[0m\u001b[0m\n\u001b[0;32m--> 464\u001b[0;31m         \u001b[0;32mreturn\u001b[0m \u001b[0mfunc\u001b[0m\u001b[0;34m(\u001b[0m\u001b[0;34m*\u001b[0m\u001b[0mnew_args\u001b[0m\u001b[0;34m,\u001b[0m \u001b[0;34m**\u001b[0m\u001b[0mkwargs\u001b[0m\u001b[0;34m)\u001b[0m\u001b[0;34m\u001b[0m\u001b[0m\n\u001b[0m\u001b[1;32m    465\u001b[0m     \u001b[0;32mreturn\u001b[0m \u001b[0m_random_state\u001b[0m\u001b[0;34m\u001b[0m\u001b[0m\n",
      "\u001b[0;32m/usr/local/lib/python3.5/dist-packages/networkx/algorithms/centrality/betweenness.py\u001b[0m in \u001b[0;36mbetweenness_centrality\u001b[0;34m(G, k, normalized, weight, endpoints, seed)\u001b[0m\n\u001b[1;32m    117\u001b[0m         \u001b[0;31m# single source shortest paths\u001b[0m\u001b[0;34m\u001b[0m\u001b[0;34m\u001b[0m\u001b[0m\n\u001b[1;32m    118\u001b[0m         \u001b[0;32mif\u001b[0m \u001b[0mweight\u001b[0m \u001b[0;32mis\u001b[0m \u001b[0;32mNone\u001b[0m\u001b[0;34m:\u001b[0m  \u001b[0;31m# use BFS\u001b[0m\u001b[0;34m\u001b[0m\u001b[0m\n\u001b[0;32m--> 119\u001b[0;31m             \u001b[0mS\u001b[0m\u001b[0;34m,\u001b[0m \u001b[0mP\u001b[0m\u001b[0;34m,\u001b[0m \u001b[0msigma\u001b[0m \u001b[0;34m=\u001b[0m \u001b[0m_single_source_shortest_path_basic\u001b[0m\u001b[0;34m(\u001b[0m\u001b[0mG\u001b[0m\u001b[0;34m,\u001b[0m \u001b[0ms\u001b[0m\u001b[0;34m)\u001b[0m\u001b[0;34m\u001b[0m\u001b[0m\n\u001b[0m\u001b[1;32m    120\u001b[0m         \u001b[0;32melse\u001b[0m\u001b[0;34m:\u001b[0m  \u001b[0;31m# use Dijkstra's algorithm\u001b[0m\u001b[0;34m\u001b[0m\u001b[0m\n\u001b[1;32m    121\u001b[0m             \u001b[0mS\u001b[0m\u001b[0;34m,\u001b[0m \u001b[0mP\u001b[0m\u001b[0;34m,\u001b[0m \u001b[0msigma\u001b[0m \u001b[0;34m=\u001b[0m \u001b[0m_single_source_dijkstra_path_basic\u001b[0m\u001b[0;34m(\u001b[0m\u001b[0mG\u001b[0m\u001b[0;34m,\u001b[0m \u001b[0ms\u001b[0m\u001b[0;34m,\u001b[0m \u001b[0mweight\u001b[0m\u001b[0;34m)\u001b[0m\u001b[0;34m\u001b[0m\u001b[0m\n",
      "\u001b[0;32m/usr/local/lib/python3.5/dist-packages/networkx/algorithms/centrality/betweenness.py\u001b[0m in \u001b[0;36m_single_source_shortest_path_basic\u001b[0;34m(G, s)\u001b[0m\n\u001b[1;32m    247\u001b[0m         \u001b[0;32mfor\u001b[0m \u001b[0mw\u001b[0m \u001b[0;32min\u001b[0m \u001b[0mG\u001b[0m\u001b[0;34m[\u001b[0m\u001b[0mv\u001b[0m\u001b[0;34m]\u001b[0m\u001b[0;34m:\u001b[0m\u001b[0;34m\u001b[0m\u001b[0m\n\u001b[1;32m    248\u001b[0m             \u001b[0;32mif\u001b[0m \u001b[0mw\u001b[0m \u001b[0;32mnot\u001b[0m \u001b[0;32min\u001b[0m \u001b[0mD\u001b[0m\u001b[0;34m:\u001b[0m\u001b[0;34m\u001b[0m\u001b[0m\n\u001b[0;32m--> 249\u001b[0;31m                 \u001b[0mQ\u001b[0m\u001b[0;34m.\u001b[0m\u001b[0mappend\u001b[0m\u001b[0;34m(\u001b[0m\u001b[0mw\u001b[0m\u001b[0;34m)\u001b[0m\u001b[0;34m\u001b[0m\u001b[0m\n\u001b[0m\u001b[1;32m    250\u001b[0m                 \u001b[0mD\u001b[0m\u001b[0;34m[\u001b[0m\u001b[0mw\u001b[0m\u001b[0;34m]\u001b[0m \u001b[0;34m=\u001b[0m \u001b[0mDv\u001b[0m \u001b[0;34m+\u001b[0m \u001b[0;36m1\u001b[0m\u001b[0;34m\u001b[0m\u001b[0m\n\u001b[1;32m    251\u001b[0m             \u001b[0;32mif\u001b[0m \u001b[0mD\u001b[0m\u001b[0;34m[\u001b[0m\u001b[0mw\u001b[0m\u001b[0;34m]\u001b[0m \u001b[0;34m==\u001b[0m \u001b[0mDv\u001b[0m \u001b[0;34m+\u001b[0m \u001b[0;36m1\u001b[0m\u001b[0;34m:\u001b[0m   \u001b[0;31m# this is a shortest path, count paths\u001b[0m\u001b[0;34m\u001b[0m\u001b[0m\n",
      "\u001b[0;31mKeyboardInterrupt\u001b[0m: "
     ]
    }
   ],
   "source": [
    "#Todo Junto\n",
    "G=G3 #Hay que cambiar para hacer el de otros graficos\n",
    "#Para el metodo random realizamos 10 iteraciones y elegimos el promedio de todas\n",
    "lcs=[]\n",
    "for i in np.arange(3):\n",
    "    f1,lista=vulnerability(G1,essential)\n",
    "    lcs.append(lista)\n",
    "lc=[np.mean(a) for a in list((zip(lcs[0],lcs[1],lcs[2])))]\n",
    "#El resto de los metodos\n",
    "f2,vgrado=vulnerabilitygrado(G,essential)\n",
    "#f3,lcautovec=vulnerabilityautovec(G,essential)\n",
    "f4,lcsubgraph=vulnerabilitysubgraph(G,essential)\n",
    "f5,lcbetweeness=vulnerabilitybetweeness(G,essential)\n",
    "f6,lcflow=vulnerabilityflow(G,essential)\n",
    "f7,lcessential,cant=vulnerabilityessential(G,essential)\n"
   ]
  },
  {
   "cell_type": "code",
   "execution_count": 132,
   "metadata": {},
   "outputs": [
    {
     "data": {
      "image/png": "[encoded data removed]",
      "text/plain": [
       "<Figure size 432x288 with 1 Axes>"
      ]
     },
     "metadata": {
      "needs_background": "light"
     },
     "output_type": "display_data"
    }
   ],
   "source": [
    "\n",
    "plt.plot(f1,lc)\n",
    "plt.plot(f2,vgrado)\n",
    "plt.plot(f3,lcautovec)\n",
    "plt.plot(f4,lcsubgraph)\n",
    "plt.plot(f5,lcbetweeness)\n",
    "plt.plot(f6,lcflow)\n",
    "plt.scatter(f7,lcessential)\n",
    "plt.show()"
   ]
  },
  {
   "cell_type": "code",
   "execution_count": 188,
   "metadata": {},
   "outputs": [
    {
     "data": {
      "image/png": "[encoded data removed]",
      "text/plain": [
       "<Figure size 432x288 with 1 Axes>"
      ]
     },
     "metadata": {
      "needs_background": "light"
     },
     "output_type": "display_data"
    }
   ],
   "source": [
    "#Tabla de HE\n",
    "Grafo=G4.copy()\n",
    "HEnorm={}\n",
    "HEessencial={}\n",
    "for nodo in Grafo.nodes():\n",
    "    grado=Grafo.degree(nodo)\n",
    "    if grado<11:\n",
    "        try:\n",
    "            HEnorm[grado]+=1\n",
    "        except:\n",
    "            HEnorm[grado]=1\n",
    "\n",
    "        if nodo in essential:\n",
    "            try:\n",
    "                HEessencial[grado]+=1\n",
    "            except:\n",
    "                HEessencial[grado]=1\n",
    "\n",
    "Porc={}\n",
    "for i in sorted(HEnorm.keys()):\n",
    "    try:\n",
    "        Porc[i]=log(1-(HEessencial[i]/HEnorm[i]))\n",
    "    except:\n",
    "        Porc[i]=log(1)\n",
    "plt.plot(Porc.keys(),Porc.values(),'bo')\n",
    "plt.show()"
   ]
  },
  {
   "cell_type": "code",
   "execution_count": 189,
   "metadata": {},
   "outputs": [
    {
     "name": "stdout",
     "output_type": "stream",
     "text": [
      "-0.043769407910835056 -0.05420421216918925\n"
     ]
    },
    {
     "data": {
      "image/png": "[encoded data removed]",
      "text/plain": [
       "<Figure size 432x288 with 1 Axes>"
      ]
     },
     "metadata": {
      "needs_background": "light"
     },
     "output_type": "display_data"
    }
   ],
   "source": [
    "\n",
    "# Ajuste de la recta\n",
    "\n",
    "datox=np.array(list(Porc.keys()))\n",
    "datoy=np.array(list(Porc.values()))\n",
    "\n",
    "fitfunc = lambda p, x: p[0] + x* p[1] \n",
    "errfunc = lambda p, x, y: (y - fitfunc(p, x)) \n",
    "\n",
    "pinit = [1, 1]\n",
    "out = optimize.leastsq(errfunc, pinit,  args=(datox,datoy), full_output=1)\n",
    "pfinal = out[0]\n",
    "\n",
    "\n",
    "print(pfinal[0],pfinal[1])\n",
    "\n",
    "recta=[fitfunc(pfinal,x) for x in datox ]\n",
    "\n",
    "plt.clf()\n",
    "plt.plot(datox,datoy,'bo')\n",
    "plt.plot(datox, recta)     # Fit\n",
    "plt.show()"
   ]
  },
  {
   "cell_type": "code",
   "execution_count": 180,
   "metadata": {},
   "outputs": [],
   "source": [
    "def gradoesencial(Grafo,essential):\n",
    "        G=Grafo.copy()\n",
    "        tamaño=np.max(list(dict(G.degree()).values()))\n",
    "        gradosdeesencial={}\n",
    "        for i in range(tamaño+1):\n",
    "                gradosdeesencial[i]=0\n",
    "\n",
    "        for nodo in G.nodes():\n",
    "            if nodo in essential:\n",
    "                gradosdeesencial[G.degree[nodo]]+=1\n",
    "    \n",
    "        return gradosdeesencial\n",
    "\n",
    "\n",
    "\n",
    "def seleccionar(Grafo,essential,gradosdeesencial):\n",
    "        G=Grafo.copy()\n",
    "        listadeseleccion=[]\n",
    "\n",
    "        diccionariodegrados=dict(G.degree())\n",
    "\n",
    "        for gradoorden in gradosdeesencial.keys():\n",
    "                listaseleccionadaporgrados=[]\n",
    "                listaparaagregar=[]\n",
    "                for nodos,grados in diccionariodegrados.items():\n",
    "                        if grados==gradoorden:\n",
    "                                listaseleccionadaporgrados.append(nodos)\n",
    "                listaparaagregar=random.sample(listaseleccionadaporgrados,gradosdeesencial[gradoorden])\n",
    "                listadeseleccion.extend(listaparaagregar)\n",
    "        return listadeseleccion"
   ]
  },
  {
   "cell_type": "code",
   "execution_count": 182,
   "metadata": {},
   "outputs": [],
   "source": [
    "def randomcongrado(grafo,essential):\n",
    "    randomlist=[]\n",
    "    for i in np.arange(100):\n",
    "        gradoesencial1=gradoesencial(grafo,essential)\n",
    "        lista=seleccionar(grafo,essential,gradoesencial1)\n",
    "        f,reslista,cant= vulnerabilityessential(grafo,lista)\n",
    "        randomlist.append(reslista)\n",
    "    M=np.mean(reslista)\n",
    "    S=np.std(reslista)\n",
    "    return M,S"
   ]
  },
  {
   "cell_type": "code",
   "execution_count": 193,
   "metadata": {},
   "outputs": [],
   "source": [
    "i=0\n",
    "ESSENTIAL=[0]*4\n",
    "MEAN=[0]*4\n",
    "STD=[0]*4\n",
    "for grafo in grafos:\n",
    "    f,ESSENTIAL[i],cant= vulnerabilityessential(grafo,essential)\n",
    "    MEAN[i],STD[i]=randomcongrado(grafo,essential)\n",
    "    i+=1"
   ]
  },
  {
   "cell_type": "code",
   "execution_count": 203,
   "metadata": {},
   "outputs": [
    {
     "data": {
      "text/plain": [
       "[0.0, 0.0, 0.0, 0.0]"
      ]
     },
     "execution_count": 203,
     "metadata": {},
     "output_type": "execute_result"
    }
   ],
   "source": [
    "STD"
   ]
  },
  {
   "cell_type": "code",
   "execution_count": 201,
   "metadata": {},
   "outputs": [],
   "source": [
    "Tabla3= pd.DataFrame({\"ID\":['apms','YID_lit','y2h','lit_reg'],\"essential\":ESSENTIAL,\"random\":MEAN,\"error\":STD})"
   ]
  },
  {
   "cell_type": "code",
   "execution_count": 204,
   "metadata": {},
   "outputs": [
    {
     "name": "stdout",
     "output_type": "stream",
     "text": [
      "        ID  error  essential    random\n",
      "0     apms    0.0   0.200370  0.161529\n",
      "1  YID_lit    0.0   0.222005  0.087240\n",
      "2      y2h    0.0   0.509415  0.475223\n",
      "3  lit_reg    0.0   0.560629  0.504687\n"
     ]
    }
   ],
   "source": [
    "print(Tabla3)"
   ]
  },
  {
   "cell_type": "code",
   "execution_count": null,
   "metadata": {},
   "outputs": [],
   "source": []
  }
 ],
 "metadata": {
  "kernelspec": {
   "display_name": "Python 3",
   "language": "python",
   "name": "python3"
  },
  "language_info": {
   "codemirror_mode": {
    "name": "ipython",
    "version": 3
   },
   "file_extension": ".py",
   "mimetype": "text/x-python",
   "name": "python",
   "nbconvert_exporter": "python",
   "pygments_lexer": "ipython3",
   "version": "3.5.2"
  }
 },
 "nbformat": 4,
 "nbformat_minor": 2
}
