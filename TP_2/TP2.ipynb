{
 "cells": [
  {
   "cell_type": "code",
   "execution_count": 4,
   "metadata": {},
   "outputs": [
    {
     "ename": "SyntaxError",
     "evalue": "invalid syntax (<ipython-input-4-cc03ac5842df>, line 1)",
     "output_type": "error",
     "traceback": [
      "\u001b[0;36m  File \u001b[0;32m\"<ipython-input-4-cc03ac5842df>\"\u001b[0;36m, line \u001b[0;32m1\u001b[0m\n\u001b[0;31m    Trabajo Practico 2\u001b[0m\n\u001b[0m                   ^\u001b[0m\n\u001b[0;31mSyntaxError\u001b[0m\u001b[0;31m:\u001b[0m invalid syntax\n"
     ]
    }
   ],
   "source": [
    "Trabajo Practico 2"
   ]
  },
  {
   "cell_type": "code",
   "execution_count": 2,
   "metadata": {},
   "outputs": [
    {
     "name": "stderr",
     "output_type": "stream",
     "text": [
      "/usr/local/lib/python3.5/dist-packages/pandas/core/computation/__init__.py:18: UserWarning: The installed version of numexpr 2.4.3 is not supported in pandas and will be not be used\n",
      "The minimum supported version is 2.4.6\n",
      "\n",
      "  ver=ver, min_ver=_MIN_NUMEXPR_VERSION), UserWarning)\n"
     ]
    }
   ],
   "source": [
    "import networkx as nx\n",
    "import pandas as pd\n",
    "import matplotlib.pylab as plt\n",
    "import numpy as np\n",
    "from  collections  import defaultdict\n",
    "from scipy import optimize\n",
    "import os\n",
    "from lectura import ldata"
   ]
  },
  {
   "cell_type": "code",
   "execution_count": null,
   "metadata": {
    "collapsed": true
   },
   "outputs": [],
   "source": [
    "# Red de interacciones binarias(yeast_Y2H.txt)\n",
    "# Red de copertenecia o complejos proteícos(yeast_AP-MS.txt)\n",
    "# Red obtenida de literatura: Yeast Interactome Database(yeast_LIT.txt)"
   ]
  },
  {
   "cell_type": "code",
   "execution_count": 5,
   "metadata": {
    "collapsed": true
   },
   "outputs": [],
   "source": [
    "# El directorio que vamos a usar en cada lectura de datos de ahora en mas\n",
    "directorio = os.path.dirname(os.path.realpath(\"yeast_AP-MS.txt\"))"
   ]
  },
  {
   "cell_type": "code",
   "execution_count": 6,
   "metadata": {
    "collapsed": true
   },
   "outputs": [],
   "source": [
    "fnMS = os.path.join(directorio,'tc02Data/yeast_AP-MS.txt')\n",
    "fnLIT = os.path.join(directorio,'tc02Data/yeast_LIT.txt')\n",
    "fnY2H = os.path.join(directorio,'tc02Data/yeast_Y2H.txt')\n",
    "fnLIT_reg = os.path.join(directorio,'tc02Data/yeast_LIT_Reguly.txt')\n",
    "\n",
    "# Lectura de datos\n",
    "datosapms=ldata(fnMS)\n",
    "datoslit=ldata(fnLIT)\n",
    "datosy2h=ldata(fnY2H)\n",
    "datoslit_reg=ldata(fnLIT_reg)\n",
    "datoslit_reg=[row[0:2] for row in datoslit_reg][1:]\n"
   ]
  },
  {
   "cell_type": "code",
   "execution_count": 7,
   "metadata": {
    "collapsed": true
   },
   "outputs": [],
   "source": [
    "G1 = nx.Graph()\n",
    "G2 = nx.Graph()\n",
    "G3 = nx.Graph()\n",
    "G4 = nx.Graph()\n",
    "\n",
    "G1.add_edges_from(datosapms)\n",
    "G2.add_edges_from(datoslit)\n",
    "G3.add_edges_from(datosy2h)\n",
    "G4.add_edges_from(datoslit_reg)\n",
    "\n"
   ]
  },
  {
   "cell_type": "code",
   "execution_count": 8,
   "metadata": {
    "collapsed": true
   },
   "outputs": [],
   "source": [
    "# Características de las redes\n",
    "\n",
    "# Numero total de nodos\n",
    "N = [G1.number_of_nodes(),G2.number_of_nodes(),G3.number_of_nodes(),G4.number_of_nodes()]\n",
    "\n",
    "# Numero total de enlaces\n",
    "L = [G1.number_of_edges(),G2.number_of_edges(),G3.number_of_edges(),G4.number_of_edges()]\n",
    "\n",
    "# Grado medio\n",
    "kmean = [np.mean(list(dict(G1.degree).values())),np.mean(list(dict(G2.degree).values())),\n",
    "         np.mean(list(dict(G3.degree).values())),\n",
    "         np.mean(list(dict(G4.degree).values()))]\n",
    "\n",
    "# Coeficiente de clustering local\n",
    "clusteringlocal = [nx.average_clustering(G1),nx.average_clustering(G2),nx.average_clustering(G3),nx.average_clustering(G4)]\n"
   ]
  },
  {
   "cell_type": "code",
   "execution_count": 9,
   "metadata": {
    "collapsed": true
   },
   "outputs": [],
   "source": [
    "# Tabla con las caraterísticas de las redes\n",
    "info= pd.DataFrame({\"ID\":['apms','YID_lit','y2h','lit_reg'],\"nodos\":N,\"enlaces\":L,\"kmean\":kmean,\n",
    "                    \"clusteringlocal\":clusteringlocal})"
   ]
  },
  {
   "cell_type": "code",
   "execution_count": 49,
   "metadata": {},
   "outputs": [
    {
     "data": {
      "text/html": [
       "<div>\n",
       "<style>\n",
       "    .dataframe thead tr:only-child th {\n",
       "        text-align: right;\n",
       "    }\n",
       "\n",
       "    .dataframe thead th {\n",
       "        text-align: left;\n",
       "    }\n",
       "\n",
       "    .dataframe tbody tr th {\n",
       "        vertical-align: top;\n",
       "    }\n",
       "</style>\n",
       "<table border=\"1\" class=\"dataframe\">\n",
       "  <thead>\n",
       "    <tr style=\"text-align: right;\">\n",
       "      <th></th>\n",
       "      <th>ID</th>\n",
       "      <th>clusteringlocal</th>\n",
       "      <th>enlaces</th>\n",
       "      <th>kmean</th>\n",
       "      <th>nodos</th>\n",
       "    </tr>\n",
       "  </thead>\n",
       "  <tbody>\n",
       "    <tr>\n",
       "      <th>0</th>\n",
       "      <td>apms</td>\n",
       "      <td>0.554636</td>\n",
       "      <td>9070</td>\n",
       "      <td>11.183724</td>\n",
       "      <td>1622</td>\n",
       "    </tr>\n",
       "    <tr>\n",
       "      <th>1</th>\n",
       "      <td>YID_lit</td>\n",
       "      <td>0.292492</td>\n",
       "      <td>2925</td>\n",
       "      <td>3.808594</td>\n",
       "      <td>1536</td>\n",
       "    </tr>\n",
       "    <tr>\n",
       "      <th>2</th>\n",
       "      <td>y2h</td>\n",
       "      <td>0.046194</td>\n",
       "      <td>2930</td>\n",
       "      <td>2.903865</td>\n",
       "      <td>2018</td>\n",
       "    </tr>\n",
       "    <tr>\n",
       "      <th>3</th>\n",
       "      <td>lit_reg</td>\n",
       "      <td>0.261134</td>\n",
       "      <td>11858</td>\n",
       "      <td>7.171454</td>\n",
       "      <td>3307</td>\n",
       "    </tr>\n",
       "  </tbody>\n",
       "</table>\n",
       "</div>"
      ],
      "text/plain": [
       "        ID  clusteringlocal  enlaces      kmean  nodos\n",
       "0     apms         0.554636     9070  11.183724   1622\n",
       "1  YID_lit         0.292492     2925   3.808594   1536\n",
       "2      y2h         0.046194     2930   2.903865   2018\n",
       "3  lit_reg         0.261134    11858   7.171454   3307"
      ]
     },
     "execution_count": 49,
     "metadata": {},
     "output_type": "execute_result"
    }
   ],
   "source": [
    "info"
   ]
  },
  {
   "cell_type": "code",
   "execution_count": 10,
   "metadata": {
    "collapsed": true
   },
   "outputs": [],
   "source": [
    "def overlap(red1,red2):\n",
    "    cant=0\n",
    "    for edge in red1.edges():\n",
    "        if edge in red2.edges():\n",
    "            cant+=1\n",
    "            \n",
    "    return cant/red1.number_of_edges()"
   ]
  },
  {
   "cell_type": "code",
   "execution_count": 51,
   "metadata": {},
   "outputs": [
    {
     "data": {
      "text/plain": [
       "0.14310915104740904"
      ]
     },
     "execution_count": 51,
     "metadata": {},
     "output_type": "execute_result"
    }
   ],
   "source": [
    "overlap(G1,G2)"
   ]
  },
  {
   "cell_type": "code",
   "execution_count": 11,
   "metadata": {
    "collapsed": true
   },
   "outputs": [],
   "source": [
    "nombres=['apms','YID_lit','y2h','lit_reg']\n",
    "grafos=[G1,G2,G3,G4]\n",
    "columna=[0]*4\n",
    "for j in np.arange(4):\n",
    "    columna[j]=[0,0,0,0]\n",
    "    for i in np.arange(4):\n",
    "        if i==j:\n",
    "            columna[j][i]=nombres[i]\n",
    "        else:\n",
    "            columna[j][i]=overlap(grafos[i],grafos[j])\n",
    "            \n",
    "tabla2=pd.DataFrame(columna)"
   ]
  },
  {
   "cell_type": "code",
   "execution_count": 142,
   "metadata": {},
   "outputs": [
    {
     "data": {
      "text/html": [
       "<div>\n",
       "<style>\n",
       "    .dataframe thead tr:only-child th {\n",
       "        text-align: right;\n",
       "    }\n",
       "\n",
       "    .dataframe thead th {\n",
       "        text-align: left;\n",
       "    }\n",
       "\n",
       "    .dataframe tbody tr th {\n",
       "        vertical-align: top;\n",
       "    }\n",
       "</style>\n",
       "<table border=\"1\" class=\"dataframe\">\n",
       "  <thead>\n",
       "    <tr style=\"text-align: right;\">\n",
       "      <th></th>\n",
       "      <th>0</th>\n",
       "      <th>1</th>\n",
       "      <th>2</th>\n",
       "      <th>3</th>\n",
       "    </tr>\n",
       "  </thead>\n",
       "  <tbody>\n",
       "    <tr>\n",
       "      <th>0</th>\n",
       "      <td>apms</td>\n",
       "      <td>0.443761</td>\n",
       "      <td>0.0887372</td>\n",
       "      <td>0.212515</td>\n",
       "    </tr>\n",
       "    <tr>\n",
       "      <th>1</th>\n",
       "      <td>0.143109</td>\n",
       "      <td>YID_lit</td>\n",
       "      <td>0.0887372</td>\n",
       "      <td>0.241187</td>\n",
       "    </tr>\n",
       "    <tr>\n",
       "      <th>2</th>\n",
       "      <td>0.0286659</td>\n",
       "      <td>0.0888889</td>\n",
       "      <td>y2h</td>\n",
       "      <td>0.0403947</td>\n",
       "    </tr>\n",
       "    <tr>\n",
       "      <th>3</th>\n",
       "      <td>0.277839</td>\n",
       "      <td>0.977778</td>\n",
       "      <td>0.163481</td>\n",
       "      <td>lit_reg</td>\n",
       "    </tr>\n",
       "  </tbody>\n",
       "</table>\n",
       "</div>"
      ],
      "text/plain": [
       "           0          1          2          3\n",
       "0       apms   0.443761  0.0887372   0.212515\n",
       "1   0.143109    YID_lit  0.0887372   0.241187\n",
       "2  0.0286659  0.0888889        y2h  0.0403947\n",
       "3   0.277839   0.977778   0.163481    lit_reg"
      ]
     },
     "execution_count": 142,
     "metadata": {},
     "output_type": "execute_result"
    }
   ],
   "source": [
    "tabla2"
   ]
  },
  {
   "cell_type": "code",
   "execution_count": 12,
   "metadata": {
    "collapsed": true
   },
   "outputs": [],
   "source": [
    "fnessential = os.path.join(directorio,'tc02Data/Essential_ORFs_paperHe.txt')\n",
    "essential=ldata(fnessential)\n",
    "essential=[row[1] for row in essential[2:-4]]"
   ]
  },
  {
   "cell_type": "code",
   "execution_count": 13,
   "metadata": {
    "collapsed": true
   },
   "outputs": [],
   "source": [
    "def essentialhubs(grafo,essential):\n",
    "    Nodos=sorted(grafo.degree, key=lambda x: x[1], reverse=True)\n",
    "    CantidadHubs=np.arange(len(Nodos)+1)\n",
    "    CantidadEssential=[0]\n",
    "    PorcEssential=[0]\n",
    "    contador=1\n",
    "    for nodo in Nodos:\n",
    "        if nodo[0] in essential:\n",
    "            CantidadEssential.append(CantidadEssential[-1]+1)\n",
    "        else:\n",
    "            CantidadEssential.append(CantidadEssential[-1])\n",
    "        PorcEssential.append(CantidadEssential[-1]/CantidadHubs[contador])\n",
    "        #print(CantidadHubs[contador],contador)\n",
    "        contador+=1\n",
    "    CantidadHubs=np.array(CantidadHubs)/len(Nodos)\n",
    "    return [CantidadHubs,PorcEssential]"
   ]
  },
  {
   "cell_type": "code",
   "execution_count": 148,
   "metadata": {},
   "outputs": [
    {
     "data": {
      "image/png": "[encoded data removed]",
      "text/plain": [
       "<matplotlib.figure.Figure at 0x7f8c66d76128>"
      ]
     },
     "metadata": {},
     "output_type": "display_data"
    }
   ],
   "source": [
    "for i in np.arange(4):\n",
    "    cantidad,esencial=essentialhubs(grafos[i],essential)\n",
    "    plt.plot(cantidad,esencial)   \n",
    "plt.show()"
   ]
  },
  {
   "cell_type": "code",
   "execution_count": null,
   "metadata": {
    "collapsed": true
   },
   "outputs": [],
   "source": [
    "#.degree\n",
    "#eigenvector_centrality(G, max_iter=100, tol=1e-06, nstart=None, weight=None)\n",
    "#subgraph_centrality(G)\n",
    "#betweenness_centrality(G, k=None, normalized=True, weight=None, endpoints=False, seed=None)\n",
    "#current_flow_closeness_centrality(G, weight='weight', dtype=<type 'float'>, solver='lu')\n",
    "#len(max(nx.connected_component_subgraphs(G1), key=len).nodes())"
   ]
  },
  {
   "cell_type": "code",
   "execution_count": 18,
   "metadata": {
    "collapsed": true
   },
   "outputs": [],
   "source": [
    "import random"
   ]
  },
  {
   "cell_type": "code",
   "execution_count": 54,
   "metadata": {
    "collapsed": true
   },
   "outputs": [],
   "source": [
    "def vulnerability(Grafo,essential):\n",
    "    randomlist=[]\n",
    "    fraccion=[]\n",
    "    tamaño=len(list(Grafo.nodes()))\n",
    "    G=Grafo.copy()\n",
    "    i=0\n",
    "    while len(G)>len(Grafo)/2:\n",
    "            randomlist.append(len(max(nx.connected_component_subgraphs(G), key=len).nodes())/tamaño)\n",
    "            fraccion.append(i/tamaño)\n",
    "            nodo=random.choice(list(G.nodes()))\n",
    "            G.remove_node(nodo)\n",
    "            i+=1\n",
    "    return fraccion,randomlist"
   ]
  },
  {
   "cell_type": "code",
   "execution_count": 127,
   "metadata": {
    "collapsed": true
   },
   "outputs": [],
   "source": [
    "def vulnerabilitygrado(Grafo,essential):\n",
    "    gradolist=[]\n",
    "    fraccion=[]\n",
    "    tamaño=len(list(Grafo.nodes()))\n",
    "    G=Grafo.copy()\n",
    "    i=0\n",
    "#    Nodos=sorted(G.degree, key=lambda x: x[1], reverse=True)\n",
    "    while len(G)>len(Grafo)/2:\n",
    "            componente=max(nx.connected_component_subgraphs(G), key=len)\n",
    "            gradolist.append(len(componente)/tamaño)\n",
    "            fraccion.append(i/tamaño)\n",
    "            nodo=max(componente.degree)\n",
    "            G.remove_node(nodo[0])\n",
    "            i+=1\n",
    "    return fraccion,gradolist"
   ]
  },
  {
   "cell_type": "code",
   "execution_count": 74,
   "metadata": {
    "collapsed": true
   },
   "outputs": [],
   "source": [
    "def vulnerabilityautovec(Grafo,essential):\n",
    "    autoveclist=[]\n",
    "    fraccion=[]\n",
    "    tamaño=len(list(Grafo.nodes()))\n",
    "    G=Grafo.copy()\n",
    "    i=0\n",
    "    Nodos=sorted(nx.eigenvector_centrality(G, max_iter=100, tol=1e-06, nstart=None, weight=None), key=lambda x: x[1], reverse=True)\n",
    "    for nodo in Nodos:\n",
    "            autoveclist.append(len(max(nx.connected_component_subgraphs(G), key=len).nodes())/tamaño)\n",
    "            fraccion.append(i/tamaño)\n",
    "            G.remove_node(nodo)\n",
    "            i+=1\n",
    "    return fraccion,autoveclist"
   ]
  },
  {
   "cell_type": "code",
   "execution_count": 76,
   "metadata": {
    "collapsed": true
   },
   "outputs": [],
   "source": [
    "def vulnerabilitysubgraph(Grafo,essential):\n",
    "    subgraphlist=[]\n",
    "    fraccion=[]\n",
    "    tamaño=len(list(Grafo.nodes()))\n",
    "    G=Grafo.copy()\n",
    "    i=0\n",
    "    Nodos=sorted(nx.subgraph_centrality(G), key=lambda x: x[1], reverse=True)\n",
    "    for nodo in Nodos:\n",
    "            subgraphlist.append(len(max(nx.connected_component_subgraphs(G), key=len).nodes())/tamaño)\n",
    "            fraccion.append(i/tamaño)\n",
    "            G.remove_node(nodo)\n",
    "            i+=1\n",
    "    return fraccion,subgraphlist"
   ]
  },
  {
   "cell_type": "code",
   "execution_count": 79,
   "metadata": {
    "collapsed": true
   },
   "outputs": [],
   "source": [
    "def vulnerabilitybetweeness(Grafo,essential):\n",
    "    betweenesslist=[]\n",
    "    fraccion=[]\n",
    "    tamaño=len(list(Grafo.nodes()))\n",
    "    G=Grafo.copy()\n",
    "    i=0\n",
    "    Nodos=sorted(nx.betweenness_centrality(G, k=None, normalized=True, weight=None, endpoints=False, seed=None), key=lambda x: x[1], reverse=True)\n",
    "    for nodo in Nodos:\n",
    "            betweenesslist.append(len(max(nx.connected_component_subgraphs(G), key=len).nodes())/tamaño)\n",
    "            fraccion.append(i/tamaño)\n",
    "            G.remove_node(nodo)\n",
    "            i+=1\n",
    "    return fraccion,betweenesslist"
   ]
  },
  {
   "cell_type": "code",
   "execution_count": 88,
   "metadata": {},
   "outputs": [],
   "source": [
    "def vulnerabilityflow(Grafo,essential):\n",
    "    flowlist=[]\n",
    "    fraccion=[]\n",
    "    tamaño=len(list(Grafo.nodes()))\n",
    "    G=Grafo.copy()\n",
    "    i=0\n",
    "    Nodos=sorted(nx.current_flow_closeness_centrality(max(nx.connected_component_subgraphs(G), key=len), weight=None, solver='lu'), key=lambda x: x[1], reverse=True)\n",
    "    for nodo in Nodos:\n",
    "            flowlist.append(len(max(nx.connected_component_subgraphs(G), key=len).nodes())/tamaño)\n",
    "            fraccion.append(i/tamaño)\n",
    "            G.remove_node(nodo)\n",
    "            i+=1\n",
    "    return fraccion2,flowlist"
   ]
  },
  {
   "cell_type": "code",
   "execution_count": 122,
   "metadata": {},
   "outputs": [],
   "source": [
    "def vulnerabilityessential(Grafo,essential):\n",
    "    G=Grafo.copy()\n",
    "    tamaño=len(list(Grafo.nodes()))\n",
    "    for nodo in Grafo.nodes():\n",
    "        if nodo in essential:\n",
    "            G.remove_node(nodo)\n",
    "            \n",
    "    essential=len(max(nx.connected_component_subgraphs(G), key=len).nodes())/tamaño\n",
    "    fraccion3=(len(Grafo)-len(G))/tamaño\n",
    "\n",
    "    return fraccion3,essential,len(Grafo)-len(G)"
   ]
  },
  {
   "cell_type": "code",
   "execution_count": 121,
   "metadata": {},
   "outputs": [
    {
     "data": {
      "text/plain": [
       "1622"
      ]
     },
     "execution_count": 121,
     "metadata": {},
     "output_type": "execute_result"
    }
   ],
   "source": [
    "len(G1)"
   ]
  },
  {
   "cell_type": "code",
   "execution_count": 131,
   "metadata": {},
   "outputs": [],
   "source": [
    "f,lc=vulnerability(G1,essential)"
   ]
  },
  {
   "cell_type": "code",
   "execution_count": 132,
   "metadata": {},
   "outputs": [],
   "source": [
    "f2,vgrado=vulnerabilitygrado(G1,essential)"
   ]
  },
  {
   "cell_type": "code",
   "execution_count": 72,
   "metadata": {},
   "outputs": [],
   "source": [
    "f3,lcautovec=vulnerabilityautovec(G1,essential)"
   ]
  },
  {
   "cell_type": "code",
   "execution_count": 77,
   "metadata": {
    "collapsed": true
   },
   "outputs": [],
   "source": [
    "f4,lcsubgraph=vulnerabilitysubgraph(G1,essential)"
   ]
  },
  {
   "cell_type": "code",
   "execution_count": 92,
   "metadata": {
    "collapsed": true
   },
   "outputs": [],
   "source": [
    "f5,lcbetweeness=vulnerabilitybetweeness(G1,essential)"
   ]
  },
  {
   "cell_type": "code",
   "execution_count": 93,
   "metadata": {},
   "outputs": [],
   "source": [
    "f6,lcflow=vulnerabilityflow(G1,essential)"
   ]
  },
  {
   "cell_type": "code",
   "execution_count": 133,
   "metadata": {},
   "outputs": [],
   "source": [
    "f7,lcessential,cant=vulnerabilityessential(G1,essential)"
   ]
  },
  {
   "cell_type": "code",
   "execution_count": 134,
   "metadata": {},
   "outputs": [
    {
     "data": {
      "image/png": "[encoded data removed]",
      "text/plain": [
       "<matplotlib.figure.Figure at 0x7f453d095400>"
      ]
     },
     "metadata": {},
     "output_type": "display_data"
    }
   ],
   "source": [
    "plt.plot(f,lc)\n",
    "plt.plot(f2,vgrado)\n",
    "#plt.plot(f,lcautovec)\n",
    "#plt.plot(f,lcsubgraph)\n",
    "#plt.plot(f,lcbetweeness)\n",
    "#plt.plot(f,lcflow)\n",
    "plt.scatter(f7,lcessential)\n",
    "plt.show()"
   ]
  },
  {
   "cell_type": "code",
   "execution_count": 120,
   "metadata": {},
   "outputs": [
    {
     "name": "stdout",
     "output_type": "stream",
     "text": [
      "0.08323057953144267 1015\n"
     ]
    }
   ],
   "source": [
    "print(lc[cant],cant)\n",
    "#f[cant]\n",
    "#f3+f[cant]"
   ]
  },
  {
   "cell_type": "code",
   "execution_count": null,
   "metadata": {
    "collapsed": true
   },
   "outputs": [],
   "source": []
  }
 ],
 "metadata": {
  "kernelspec": {
   "display_name": "Python 3",
   "language": "python",
   "name": "python3"
  },
  "language_info": {
   "codemirror_mode": {
    "name": "ipython",
    "version": 3
   },
   "file_extension": ".py",
   "mimetype": "text/x-python",
   "name": "python",
   "nbconvert_exporter": "python",
   "pygments_lexer": "ipython3",
   "version": "3.5.2"
  }
 },
 "nbformat": 4,
 "nbformat_minor": 2
}
