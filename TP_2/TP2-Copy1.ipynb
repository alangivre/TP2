{
 "cells": [
  {
   "cell_type": "markdown",
   "metadata": {},
   "source": [
    "Trabajo Practico 2"
   ]
  },
  {
   "cell_type": "code",
   "execution_count": 41,
   "metadata": {},
   "outputs": [],
   "source": [
    "import networkx as nx\n",
    "import pandas as pd\n",
    "import matplotlib.pyplot as plt\n",
    "import matplotlib.colors\n",
    "import numpy as np\n",
    "from  collections  import defaultdict\n",
    "from scipy import optimize\n",
    "import os\n",
    "from lectura import ldata\n",
    "from math import log"
   ]
  },
  {
   "cell_type": "code",
   "execution_count": 2,
   "metadata": {
    "collapsed": true
   },
   "outputs": [],
   "source": [
    "# Red de interacciones binarias(yeast_Y2H.txt)\n",
    "# Red de copertenecia o complejos proteícos(yeast_AP-MS.txt)\n",
    "# Red obtenida de literatura: Yeast Interactome Database(yeast_LIT.txt)"
   ]
  },
  {
   "cell_type": "code",
   "execution_count": 42,
   "metadata": {},
   "outputs": [],
   "source": [
    "# El directorio que vamos a usar en cada lectura de datos de ahora en mas\n",
    "directorio = os.path.dirname(os.path.realpath(\"yeast_AP-MS.txt\"))"
   ]
  },
  {
   "cell_type": "code",
   "execution_count": 43,
   "metadata": {},
   "outputs": [],
   "source": [
    "fnMS = os.path.join(directorio,'tc02Data/yeast_AP-MS.txt')\n",
    "fnLIT = os.path.join(directorio,'tc02Data/yeast_LIT.txt')\n",
    "fnY2H = os.path.join(directorio,'tc02Data/yeast_Y2H.txt')\n",
    "fnLIT_reg = os.path.join(directorio,'tc02Data/yeast_LIT_Reguly.txt')\n",
    "\n",
    "# Lectura de datos\n",
    "datosapms=ldata(fnMS)\n",
    "datoslit=ldata(fnLIT)\n",
    "datosy2h=ldata(fnY2H)\n",
    "datoslit_reg=ldata(fnLIT_reg)\n",
    "datoslit_reg=[row[0:2] for row in datoslit_reg][1:]\n"
   ]
  },
  {
   "cell_type": "code",
   "execution_count": 44,
   "metadata": {},
   "outputs": [],
   "source": [
    "G1 = nx.Graph()\n",
    "G2 = nx.Graph()\n",
    "G3 = nx.Graph()\n",
    "G4 = nx.Graph()\n",
    "\n",
    "G1.add_edges_from(datosapms)\n",
    "G2.add_edges_from(datoslit)\n",
    "G3.add_edges_from(datosy2h)\n",
    "G4.add_edges_from(datoslit_reg)\n",
    "\n"
   ]
  },
  {
   "cell_type": "code",
   "execution_count": 45,
   "metadata": {},
   "outputs": [],
   "source": [
    "# Características de las redes\n",
    "\n",
    "# Numero total de nodos\n",
    "N = [G1.number_of_nodes(),G2.number_of_nodes(),G3.number_of_nodes(),G4.number_of_nodes()]\n",
    "\n",
    "# Numero total de enlaces\n",
    "L = [G1.number_of_edges(),G2.number_of_edges(),G3.number_of_edges(),G4.number_of_edges()]\n",
    "\n",
    "# Grado medio\n",
    "kmean = [np.mean(list(dict(G1.degree).values())),np.mean(list(dict(G2.degree).values())),\n",
    "         np.mean(list(dict(G3.degree).values())),\n",
    "         np.mean(list(dict(G4.degree).values()))]\n",
    "\n",
    "# Coeficiente de clustering local\n",
    "clusteringlocal = [nx.average_clustering(G1),nx.average_clustering(G2),nx.average_clustering(G3),nx.average_clustering(G4)]\n"
   ]
  },
  {
   "cell_type": "code",
   "execution_count": 46,
   "metadata": {},
   "outputs": [],
   "source": [
    "# Tabla con las caraterísticas de las redes\n",
    "info= pd.DataFrame({\"ID\":['apms','YID_lit','y2h','lit_reg'],\"nodos\":N,\"enlaces\":L,\"kmean\":kmean,\n",
    "                    \"clusteringlocal\":clusteringlocal})"
   ]
  },
  {
   "cell_type": "code",
   "execution_count": 47,
   "metadata": {},
   "outputs": [
    {
     "data": {
      "text/html": [
       "<div>\n",
       "<style scoped>\n",
       "    .dataframe tbody tr th:only-of-type {\n",
       "        vertical-align: middle;\n",
       "    }\n",
       "\n",
       "    .dataframe tbody tr th {\n",
       "        vertical-align: top;\n",
       "    }\n",
       "\n",
       "    .dataframe thead th {\n",
       "        text-align: right;\n",
       "    }\n",
       "</style>\n",
       "<table border=\"1\" class=\"dataframe\">\n",
       "  <thead>\n",
       "    <tr style=\"text-align: right;\">\n",
       "      <th></th>\n",
       "      <th>ID</th>\n",
       "      <th>nodos</th>\n",
       "      <th>enlaces</th>\n",
       "      <th>kmean</th>\n",
       "      <th>clusteringlocal</th>\n",
       "    </tr>\n",
       "  </thead>\n",
       "  <tbody>\n",
       "    <tr>\n",
       "      <th>0</th>\n",
       "      <td>apms</td>\n",
       "      <td>1622</td>\n",
       "      <td>9070</td>\n",
       "      <td>11.183724</td>\n",
       "      <td>0.554636</td>\n",
       "    </tr>\n",
       "    <tr>\n",
       "      <th>1</th>\n",
       "      <td>YID_lit</td>\n",
       "      <td>1536</td>\n",
       "      <td>2925</td>\n",
       "      <td>3.808594</td>\n",
       "      <td>0.292492</td>\n",
       "    </tr>\n",
       "    <tr>\n",
       "      <th>2</th>\n",
       "      <td>y2h</td>\n",
       "      <td>2018</td>\n",
       "      <td>2930</td>\n",
       "      <td>2.903865</td>\n",
       "      <td>0.046194</td>\n",
       "    </tr>\n",
       "    <tr>\n",
       "      <th>3</th>\n",
       "      <td>lit_reg</td>\n",
       "      <td>3307</td>\n",
       "      <td>11858</td>\n",
       "      <td>7.171454</td>\n",
       "      <td>0.261134</td>\n",
       "    </tr>\n",
       "  </tbody>\n",
       "</table>\n",
       "</div>"
      ],
      "text/plain": [
       "        ID  nodos  enlaces      kmean  clusteringlocal\n",
       "0     apms   1622     9070  11.183724         0.554636\n",
       "1  YID_lit   1536     2925   3.808594         0.292492\n",
       "2      y2h   2018     2930   2.903865         0.046194\n",
       "3  lit_reg   3307    11858   7.171454         0.261134"
      ]
     },
     "execution_count": 47,
     "metadata": {},
     "output_type": "execute_result"
    }
   ],
   "source": [
    "info"
   ]
  },
  {
   "cell_type": "code",
   "execution_count": 48,
   "metadata": {},
   "outputs": [],
   "source": [
    "def overlap(red1,red2):\n",
    "    cant=0\n",
    "    for edge in red1.edges():\n",
    "        if edge in red2.edges():\n",
    "            cant+=1\n",
    "            \n",
    "    return cant/red1.number_of_edges()"
   ]
  },
  {
   "cell_type": "code",
   "execution_count": 49,
   "metadata": {},
   "outputs": [
    {
     "data": {
      "text/plain": [
       "0.14310915104740904"
      ]
     },
     "execution_count": 49,
     "metadata": {},
     "output_type": "execute_result"
    }
   ],
   "source": [
    "overlap(G1,G2)"
   ]
  },
  {
   "cell_type": "code",
   "execution_count": 50,
   "metadata": {},
   "outputs": [],
   "source": [
    "nombres=['apms','YID_lit','y2h','lit_reg']\n",
    "grafos=[G1,G2,G3,G4]\n",
    "columna=[0]*4\n",
    "for j in np.arange(4):\n",
    "    columna[j]=[0,0,0,0]\n",
    "    for i in np.arange(4):\n",
    "        if i==j:\n",
    "            columna[j][i]=nombres[i]\n",
    "        else:\n",
    "            columna[j][i]=overlap(grafos[i],grafos[j])\n",
    "            \n",
    "tabla2=pd.DataFrame(columna)"
   ]
  },
  {
   "cell_type": "code",
   "execution_count": 51,
   "metadata": {},
   "outputs": [
    {
     "data": {
      "text/html": [
       "<div>\n",
       "<style scoped>\n",
       "    .dataframe tbody tr th:only-of-type {\n",
       "        vertical-align: middle;\n",
       "    }\n",
       "\n",
       "    .dataframe tbody tr th {\n",
       "        vertical-align: top;\n",
       "    }\n",
       "\n",
       "    .dataframe thead th {\n",
       "        text-align: right;\n",
       "    }\n",
       "</style>\n",
       "<table border=\"1\" class=\"dataframe\">\n",
       "  <thead>\n",
       "    <tr style=\"text-align: right;\">\n",
       "      <th></th>\n",
       "      <th>0</th>\n",
       "      <th>1</th>\n",
       "      <th>2</th>\n",
       "      <th>3</th>\n",
       "    </tr>\n",
       "  </thead>\n",
       "  <tbody>\n",
       "    <tr>\n",
       "      <th>0</th>\n",
       "      <td>apms</td>\n",
       "      <td>0.443761</td>\n",
       "      <td>0.0887372</td>\n",
       "      <td>0.212515</td>\n",
       "    </tr>\n",
       "    <tr>\n",
       "      <th>1</th>\n",
       "      <td>0.143109</td>\n",
       "      <td>YID_lit</td>\n",
       "      <td>0.0887372</td>\n",
       "      <td>0.241187</td>\n",
       "    </tr>\n",
       "    <tr>\n",
       "      <th>2</th>\n",
       "      <td>0.0286659</td>\n",
       "      <td>0.0888889</td>\n",
       "      <td>y2h</td>\n",
       "      <td>0.0403947</td>\n",
       "    </tr>\n",
       "    <tr>\n",
       "      <th>3</th>\n",
       "      <td>0.277839</td>\n",
       "      <td>0.977778</td>\n",
       "      <td>0.163481</td>\n",
       "      <td>lit_reg</td>\n",
       "    </tr>\n",
       "  </tbody>\n",
       "</table>\n",
       "</div>"
      ],
      "text/plain": [
       "           0          1          2          3\n",
       "0       apms   0.443761  0.0887372   0.212515\n",
       "1   0.143109    YID_lit  0.0887372   0.241187\n",
       "2  0.0286659  0.0888889        y2h  0.0403947\n",
       "3   0.277839   0.977778   0.163481    lit_reg"
      ]
     },
     "execution_count": 51,
     "metadata": {},
     "output_type": "execute_result"
    }
   ],
   "source": [
    "tabla2"
   ]
  },
  {
   "cell_type": "code",
   "execution_count": 52,
   "metadata": {},
   "outputs": [],
   "source": [
    "fnessential = os.path.join(directorio,'tc02Data/Essential_ORFs_paperHe.txt')\n",
    "essential=ldata(fnessential)\n",
    "essential=[row[1] for row in essential[2:-4]]"
   ]
  },
  {
   "cell_type": "code",
   "execution_count": 53,
   "metadata": {},
   "outputs": [],
   "source": [
    "def essentialhubs(grafo,essential):\n",
    "    Nodos=sorted(grafo.degree, key=lambda x: x[1], reverse=True)\n",
    "    CantidadHubs=np.arange(len(Nodos)+1)\n",
    "    CantidadEssential=[0]\n",
    "    PorcEssential=[0]\n",
    "    contador=1\n",
    "    for nodo in Nodos:\n",
    "        if nodo[0] in essential:\n",
    "            CantidadEssential.append(CantidadEssential[-1]+1)\n",
    "        else:\n",
    "            CantidadEssential.append(CantidadEssential[-1])\n",
    "        PorcEssential.append(CantidadEssential[-1]/CantidadHubs[contador])\n",
    "        #print(CantidadHubs[contador],contador)\n",
    "        contador+=1\n",
    "    CantidadHubs=np.array(CantidadHubs)/len(Nodos)\n",
    "    return [CantidadHubs,PorcEssential]"
   ]
  },
  {
   "cell_type": "code",
   "execution_count": 54,
   "metadata": {},
   "outputs": [
    {
     "data": {
      "image/png": "[encoded data removed]",
      "text/plain": [
       "<Figure size 432x288 with 1 Axes>"
      ]
     },
     "metadata": {},
     "output_type": "display_data"
    }
   ],
   "source": [
    "for i in np.arange(4):\n",
    "    cantidad,esencial=essentialhubs(grafos[i],essential)\n",
    "    \n",
    "    plt.plot(cantidad,esencial)   \n",
    "plt.show()"
   ]
  },
  {
   "cell_type": "code",
   "execution_count": 16,
   "metadata": {
    "collapsed": true
   },
   "outputs": [],
   "source": [
    "#.degree\n",
    "#eigenvector_centrality(G, max_iter=100, tol=1e-06, nstart=None, weight=None)\n",
    "#subgraph_centrality(G)\n",
    "#betweenness_centrality(G, k=None, normalized=True, weight=None, endpoints=False, seed=None)\n",
    "#current_flow_closeness_centrality(G, weight='weight', dtype=<type 'float'>, solver='lu')\n",
    "#len(max(nx.connected_component_subgraphs(G1), key=len).nodes())"
   ]
  },
  {
   "cell_type": "code",
   "execution_count": 55,
   "metadata": {},
   "outputs": [],
   "source": [
    "import random"
   ]
  },
  {
   "cell_type": "code",
   "execution_count": 16,
   "metadata": {},
   "outputs": [],
   "source": [
    "def vulnerability(Grafo,essential):\n",
    "    randomlist=[]\n",
    "    fraccion=[]\n",
    "    tamaño=len(list(Grafo.nodes()))\n",
    "    G=Grafo.copy()\n",
    "    i=0\n",
    "    #El primer cuarto del grafo, sacamos de a 10 nodos por cada vez que elegimos la compontente mayor\n",
    "    while len(G)>len(Grafo)*3/4:\n",
    "            componente=max(nx.connected_component_subgraphs(G), key=len) #Elegimos componente\n",
    "            randomlist.append(len(componente)/tamaño) # tamaño de la componente (normalizado)\n",
    "            fraccion.append(i/tamaño) #Cantidad de nodos que sacamos (normalizado)\n",
    "            for j in np.arange(10): #Elegimos el proximo nodo a sacar\n",
    "                nodo=random.choice(list(componente.nodes())) \n",
    "                G.remove_node(nodo)\n",
    "                componente.remove_node(nodo)\n",
    "                i+=1\n",
    "    #El segundo cuarto sacamos nodos eligiendo en cada paso la componente mayor. Paramos cuando el grafo está a la mitad de su tamaño original\n",
    "    while len(G)>len(Grafo)/2:\n",
    "            componente=max(nx.connected_component_subgraphs(G), key=len)\n",
    "            randomlist.append(len(componente)/tamaño)\n",
    "            fraccion.append(i/tamaño)\n",
    "            nodo=random.choice(list(componente.nodes()))\n",
    "            G.remove_node(nodo)\n",
    "            i+=1\n",
    "\n",
    "    return fraccion,randomlist"
   ]
  },
  {
   "cell_type": "code",
   "execution_count": 17,
   "metadata": {},
   "outputs": [],
   "source": [
    "def vulnerabilitygrado(Grafo,essential):\n",
    "    gradolist=[]\n",
    "    fraccion=[]\n",
    "    tamaño=len(list(Grafo.nodes()))\n",
    "    G=Grafo.copy()\n",
    "    i=0\n",
    "#    Nodos=sorted(G.degree, key=lambda x: x[1], reverse=True)\n",
    "    while len(G)>len(Grafo)*3/4:\n",
    "            componente=max(nx.connected_component_subgraphs(G), key=len)\n",
    "            gradolist.append(len(componente)/tamaño)\n",
    "            fraccion.append(i/tamaño)\n",
    "            for j in np.arange(10):\n",
    "                nodo=max(componente.degree)\n",
    "                G.remove_node(nodo[0])\n",
    "                componente.remove_node(nodo[0])\n",
    "                i+=1\n",
    "    while len(G)>len(Grafo)/2:\n",
    "            componente=max(nx.connected_component_subgraphs(G), key=len)\n",
    "            gradolist.append(len(componente)/tamaño)\n",
    "            fraccion.append(i/tamaño)\n",
    "            nodo=max(componente.degree)\n",
    "            G.remove_node(nodo[0])\n",
    "\n",
    "            i+=1\n",
    "\n",
    "    return fraccion,gradolist"
   ]
  },
  {
   "cell_type": "code",
   "execution_count": 18,
   "metadata": {},
   "outputs": [],
   "source": [
    "def vulnerabilityautovec(Grafo,essential):\n",
    "    autoveclist=[]\n",
    "    fraccion=[]\n",
    "    tamaño=len(list(Grafo.nodes()))\n",
    "    G=Grafo.copy()\n",
    "    i=0\n",
    "    while len(G)>len(Grafo)*3/4:\n",
    "            componente=max(nx.connected_component_subgraphs(G), key=len)\n",
    "            autoveclist.append(len(componente)/tamaño)\n",
    "            fraccion.append(i/tamaño)\n",
    "            for j in np.arange(10):\n",
    "                nodo=max(nx.eigenvector_centrality_numpy(componente,max_iter=70)) #le puse_numpy por sug de la fucnion\n",
    "                G.remove_node(nodo)\n",
    "                componente.remove_node(nodo)\n",
    "                i+=1    \n",
    "    while len(G)>len(Grafo)/2:\n",
    "        componente=max(nx.connected_component_subgraphs(G), key=len)\n",
    "        autoveclist.append(len(componente)/tamaño)\n",
    "        fraccion.append(i/tamaño)\n",
    "        nodo=max(nx.eigenvector_centrality_numpy(componente,max_iter=70))\n",
    "        G.remove_node(nodo)\n",
    "        i+=1\n",
    "    return fraccion,autoveclist"
   ]
  },
  {
   "cell_type": "code",
   "execution_count": 19,
   "metadata": {},
   "outputs": [],
   "source": [
    "def vulnerabilitysubgraph(Grafo,essential):\n",
    "    subgraphlist=[]\n",
    "    fraccion=[]\n",
    "    tamaño=len(list(Grafo.nodes()))\n",
    "    G=Grafo.copy()\n",
    "    i=0\n",
    "    while len(G)>len(Grafo)*3/4:\n",
    "            componente=max(nx.connected_component_subgraphs(G), key=len)\n",
    "            subgraphlist.append(len(componente)/tamaño)\n",
    "            fraccion.append(i/tamaño)\n",
    "            for j in np.arange(10):\n",
    "                nodo=max(nx.subgraph_centrality(componente))\n",
    "                G.remove_node(nodo)\n",
    "                componente.remove_node(nodo)\n",
    "                i+=1\n",
    "    while len(G)>len(Grafo)/2:\n",
    "        componente=max(nx.connected_component_subgraphs(G), key=len)\n",
    "        subgraphlist.append(len(componente)/tamaño)\n",
    "        fraccion.append(i/tamaño)\n",
    "        nodo=max(nx.subgraph_centrality(componente))\n",
    "        G.remove_node(nodo)\n",
    "        i+=1\n",
    "    return fraccion,subgraphlist"
   ]
  },
  {
   "cell_type": "code",
   "execution_count": 20,
   "metadata": {},
   "outputs": [],
   "source": [
    "def vulnerabilitybetweeness(Grafo,essential):\n",
    "    betweenesslist=[]\n",
    "    fraccion=[]\n",
    "    tamaño=len(list(Grafo.nodes()))\n",
    "    G=Grafo.copy()\n",
    "    i=0\n",
    "    while len(G)>len(Grafo)*3/4:\n",
    "            componente=max(nx.connected_component_subgraphs(G), key=len)\n",
    "            betweenesslist.append(len(componente)/tamaño)\n",
    "            fraccion.append(i/tamaño)\n",
    "            for j in np.arange(10):\n",
    "                nodo=max(nx.betweenness_centrality(componente, k=None, normalized=True, weight=None, endpoints=False, seed=None))\n",
    "                componente.remove_node(nodo)\n",
    "                G.remove_node(nodo)\n",
    "                i+=1    \n",
    "    while len(G)>len(Grafo)/2:\n",
    "        componente=max(nx.connected_component_subgraphs(G), key=len)\n",
    "        betweenesslist.append(len(componente)/tamaño)\n",
    "        fraccion.append(i/tamaño)\n",
    "        nodo=max(nx.betweenness_centrality(componente, k=None, normalized=True, weight=None, endpoints=False, seed=None))\n",
    "        G.remove_node(nodo)\n",
    "        i+=1\n",
    "    return fraccion,betweenesslist"
   ]
  },
  {
   "cell_type": "code",
   "execution_count": 21,
   "metadata": {},
   "outputs": [],
   "source": [
    "def vulnerabilityflow(Grafo,essential):\n",
    "    flowlist=[]\n",
    "    fraccion=[]\n",
    "    tamaño=len(list(Grafo.nodes()))\n",
    "    G=Grafo.copy()\n",
    "    i=0\n",
    "    Nodos=sorted(nx.current_flow_closeness_centrality(max(nx.connected_component_subgraphs(G), key=len), weight=None, solver='lu'), key=lambda x: x[1], reverse=True)\n",
    "  \n",
    "    while len(G)>len(Grafo)/2:\n",
    "        componente=max(nx.connected_component_subgraphs(G), key=len)\n",
    "        flowlist.append(len(componente)/tamaño)\n",
    "        fraccion.append(i/tamaño)\n",
    "        nodo=max(nx.current_flow_closeness_centrality(componente))\n",
    "        G.remove_node(nodo)\n",
    "        i+=1\n",
    "    return fraccion,flowlist"
   ]
  },
  {
   "cell_type": "code",
   "execution_count": 22,
   "metadata": {},
   "outputs": [],
   "source": [
    "def vulnerabilityessential(Grafo,essential):\n",
    "    G=Grafo.copy()\n",
    "    tamaño=len(list(Grafo.nodes()))\n",
    "    for nodo in Grafo.nodes():\n",
    "        if nodo in essential:\n",
    "            G.remove_node(nodo)\n",
    "            \n",
    "    essential=len(max(nx.connected_component_subgraphs(G), key=len).nodes())/tamaño\n",
    "    fraccion3=(len(Grafo)-len(G))/tamaño\n",
    "\n",
    "    return fraccion3,essential,len(Grafo)-len(G)"
   ]
  },
  {
   "cell_type": "code",
   "execution_count": null,
   "metadata": {
    "collapsed": true
   },
   "outputs": [],
   "source": [
    "#No correr estos, salvo que queramos probar uno por uno"
   ]
  },
  {
   "cell_type": "code",
   "execution_count": 25,
   "metadata": {},
   "outputs": [],
   "source": [
    "#f1,lc=vulnerability(G1,essential)"
   ]
  },
  {
   "cell_type": "code",
   "execution_count": 27,
   "metadata": {
    "collapsed": true
   },
   "outputs": [],
   "source": [
    "f2,vgrado=vulnerabilitygrado(G1,essential)"
   ]
  },
  {
   "cell_type": "code",
   "execution_count": 32,
   "metadata": {
    "collapsed": true
   },
   "outputs": [],
   "source": [
    "f3,lcautovec=vulnerabilityautovec(G1,essential)"
   ]
  },
  {
   "cell_type": "code",
   "execution_count": 33,
   "metadata": {
    "collapsed": true
   },
   "outputs": [],
   "source": [
    "f4,lcsubgraph=vulnerabilitysubgraph(G1,essential)"
   ]
  },
  {
   "cell_type": "code",
   "execution_count": 26,
   "metadata": {},
   "outputs": [],
   "source": [
    "#f5,lcbetweeness=vulnerabilitybetweeness(G1,essential)"
   ]
  },
  {
   "cell_type": "code",
   "execution_count": 27,
   "metadata": {},
   "outputs": [],
   "source": [
    "#f6,lcflow=vulnerabilityflow(G1,essential)"
   ]
  },
  {
   "cell_type": "code",
   "execution_count": 36,
   "metadata": {
    "collapsed": true
   },
   "outputs": [],
   "source": [
    "f7,lcessential,cant=vulnerabilityessential(G1,essential)"
   ]
  },
  {
   "cell_type": "code",
   "execution_count": 61,
   "metadata": {},
   "outputs": [
    {
     "data": {
      "text/plain": [
       "'\\n#El resto de los metodos\\nf2,vgrado=vulnerabilitygrado(G,essential)\\n#f3,lcautovec=vulnerabilityautovec(G,essential)\\nf4,lcsubgraph=vulnerabilitysubgraph(G,essential)\\nf5,lcbetweeness=vulnerabilitybetweeness(G,essential)\\nf6,lcflow=vulnerabilityflow(G,essential)\\nf7,lcessential,cant=vulnerabilityessential(G,essential)\\n'"
      ]
     },
     "execution_count": 61,
     "metadata": {},
     "output_type": "execute_result"
    }
   ],
   "source": [
    "#Todo Junto\n",
    "G=G2 #Hay que cambiar para hacer el de otros graficos\n",
    "#Para el metodo random realizamos 10 iteraciones y elegimos el promedio de todas\n",
    "lcs=[]\n",
    "for i in np.arange(3):\n",
    "    f1,lista=vulnerability(G,essential)    #el error estaba aquí estaba corriendo todo en base a G1\n",
    "    lcs.append(lista)\n",
    "lc=[np.mean(a) for a in list((zip(lcs[0],lcs[1],lcs[2])))]\n",
    "\"\"\"\n",
    "#El resto de los metodos\n",
    "f2,vgrado=vulnerabilitygrado(G,essential)\n",
    "#f3,lcautovec=vulnerabilityautovec(G,essential)\n",
    "f4,lcsubgraph=vulnerabilitysubgraph(G,essential)\n",
    "f5,lcbetweeness=vulnerabilitybetweeness(G,essential)\n",
    "f6,lcflow=vulnerabilityflow(G,essential)\n",
    "f7,lcessential,cant=vulnerabilityessential(G,essential)\n",
    "\"\"\""
   ]
  },
  {
   "cell_type": "code",
   "execution_count": 62,
   "metadata": {},
   "outputs": [
    {
     "name": "stdout",
     "output_type": "stream",
     "text": [
      "f2\n",
      "f3\n",
      "f4\n",
      "f5\n",
      "f6\n",
      "f7\n"
     ]
    }
   ],
   "source": [
    "#El resto de los metodos\n",
    "f2,vgrado=vulnerabilitygrado(G,essential)\n",
    "print (\"f2\")\n",
    "f3,lcautovec=vulnerabilityautovec(G,essential)\n",
    "print (\"f3\")\n",
    "f4,lcsubgraph=vulnerabilitysubgraph(G,essential)\n",
    "print (\"f4\")\n",
    "f5,lcbetweeness=vulnerabilitybetweeness(G,essential)\n",
    "print (\"f5\")\n",
    "f6,lcflow=vulnerabilityflow(G,essential)\n",
    "print (\"f6\")\n",
    "f7,lcessential,cant=vulnerabilityessential(G,essential)\n",
    "print (\"f7\")"
   ]
  },
  {
   "cell_type": "code",
   "execution_count": 35,
   "metadata": {},
   "outputs": [
    {
     "data": {
      "image/png": "[encoded data removed]",
      "text/plain": [
       "<matplotlib.figure.Figure at 0x7fa5f61987b8>"
      ]
     },
     "metadata": {},
     "output_type": "display_data"
    }
   ],
   "source": [
    "\n",
    "plt.plot(f1,lc,\"r\", label='random')\n",
    "plt.plot(f2,vgrado,\"b\", label='grado')\n",
    "plt.plot(f3,lcautovec,\"k\", label='autovector')\n",
    "plt.plot(f4,lcsubgraph,\"g\", label='subgraph')\n",
    "plt.plot(f5,lcbetweeness,\"y\", label='betweenness')\n",
    "plt.plot(f6,lcflow,\"m\", label='flujo')\n",
    "plt.scatter(f7,lcessential, label='esencial')\n",
    "plt.xlabel(\"fracción de nodos\")\n",
    "plt.ylabel(\"componente conectada más grande\")\n",
    "plt.legend()\n",
    "plt.title(\"APMS\")\n",
    "plt.show()"
   ]
  },
  {
   "cell_type": "code",
   "execution_count": 63,
   "metadata": {},
   "outputs": [
    {
     "data": {
      "image/png": "[encoded data removed]",
      "text/plain": [
       "<matplotlib.figure.Figure at 0x7fa5f6183e80>"
      ]
     },
     "metadata": {},
     "output_type": "display_data"
    }
   ],
   "source": [
    "\n",
    "plt.plot(f1,lc,\"r\", label='random')\n",
    "plt.plot(f2,vgrado,\"b\", label='grado')\n",
    "plt.plot(f3,lcautovec,\"k\", label='autovector')\n",
    "plt.plot(f4,lcsubgraph,\"g\", label='subgraph')\n",
    "plt.plot(f5,lcbetweeness,\"y\", label='betweenness')\n",
    "plt.plot(f6,lcflow,\"m\", label='flujo')\n",
    "plt.scatter(f7,lcessential, label='esencial')\n",
    "plt.xlabel(\"fracción de nodos\")\n",
    "plt.ylabel(\"componente conectada más grande\")\n",
    "plt.legend()\n",
    "plt.title(\"literatura\")\n",
    "plt.show()"
   ]
  },
  {
   "cell_type": "code",
   "execution_count": 23,
   "metadata": {},
   "outputs": [
    {
     "data": {
      "image/png": "[encoded data removed]",
      "text/plain": [
       "<Figure size 432x288 with 1 Axes>"
      ]
     },
     "metadata": {},
     "output_type": "display_data"
    }
   ],
   "source": [
    "# Figura 2b  de HE (2006)\n",
    "\n",
    "Grafo=G1.copy()\n",
    "HEnorm={}\n",
    "HEessencial={}\n",
    "for nodo in Grafo.nodes():\n",
    "    grado=Grafo.degree(nodo)\n",
    "    if grado<11:\n",
    "        try:\n",
    "            HEnorm[grado]+=1\n",
    "        except:\n",
    "            HEnorm[grado]=1\n",
    "\n",
    "        if nodo in essential:\n",
    "            try:\n",
    "                HEessencial[grado]+=1\n",
    "            except:\n",
    "                HEessencial[grado]=1\n",
    "\n",
    "Porc={}\n",
    "for i in sorted(HEnorm.keys()):\n",
    "    try:\n",
    "        Porc[i]=log(1-(HEessencial[i]/HEnorm[i]))\n",
    "    except:\n",
    "        Porc[i]=log(1)\n",
    "plt.plot(list(Porc.keys()),list(Porc.values()),'bo')\n",
    "plt.show()"
   ]
  },
  {
   "cell_type": "code",
   "execution_count": 24,
   "metadata": {},
   "outputs": [
    {
     "name": "stdout",
     "output_type": "stream",
     "text": [
      "-0.31963328498076327 -0.02574150485585447\n",
      "0.1699727594907313\n"
     ]
    },
    {
     "data": {
      "image/png": "[encoded data removed]",
      "text/plain": [
       "<Figure size 432x288 with 1 Axes>"
      ]
     },
     "metadata": {},
     "output_type": "display_data"
    }
   ],
   "source": [
    "\n",
    "# Ajuste de la recta\n",
    "\n",
    "datox=np.array(list(Porc.keys()))\n",
    "datoy=np.array(list(Porc.values()))\n",
    "\n",
    "fitfunc = lambda p, x: p[0] + x* p[1] \n",
    "errfunc = lambda p, x, y: (y - fitfunc(p, x)) \n",
    "\n",
    "pinit = [1, 1]\n",
    "out = optimize.leastsq(errfunc, pinit,  args=(datox,datoy), full_output=1)\n",
    "pfinal = out[0]\n",
    "\n",
    "rms = np.sqrt(np.mean(errfunc(pfinal,datox,datoy)**2))\n",
    "\n",
    "print(pfinal[0],pfinal[1])\n",
    "print(rms)\n",
    "\n",
    "recta=[fitfunc(pfinal,x) for x in datox ]\n",
    "\n",
    "plt.clf()\n",
    "plt.plot(datox,datoy,'bo')\n",
    "plt.plot(datox, recta)     # Fit\n",
    "plt.xlabel(\"conectividad de proteínas(k)\",fontsize = 15)\n",
    "plt.ylabel('$ln(1-P_E)$', fontsize = 15)\n",
    "#plt.anotate(poner el valor del Ln,r y p)\n",
    "plt.show()"
   ]
  },
  {
   "cell_type": "code",
   "execution_count": 45,
   "metadata": {},
   "outputs": [
    {
     "data": {
      "image/png": "[encoded data removed]",
      "text/plain": [
       "<Figure size 432x288 with 1 Axes>"
      ]
     },
     "metadata": {},
     "output_type": "display_data"
    }
   ],
   "source": [
    "# Figura 2b  de HE (2006)\n",
    "\n",
    "Grafo=G2.copy()\n",
    "HEnorm={}\n",
    "HEessencial={}\n",
    "for nodo in Grafo.nodes():\n",
    "    grado=Grafo.degree(nodo)\n",
    "    if grado<11:\n",
    "        try:\n",
    "            HEnorm[grado]+=1\n",
    "        except:\n",
    "            HEnorm[grado]=1\n",
    "\n",
    "        if nodo in essential:\n",
    "            try:\n",
    "                HEessencial[grado]+=1\n",
    "            except:\n",
    "                HEessencial[grado]=1\n",
    "\n",
    "Porc={}\n",
    "for i in sorted(HEnorm.keys()):\n",
    "    try:\n",
    "        Porc[i]=log(1-(HEessencial[i]/HEnorm[i]))\n",
    "    except:\n",
    "        Porc[i]=log(1)\n",
    "plt.plot(list(Porc.keys()),list(Porc.values()),'bo')\n",
    "plt.show()"
   ]
  },
  {
   "cell_type": "code",
   "execution_count": 46,
   "metadata": {},
   "outputs": [
    {
     "name": "stdout",
     "output_type": "stream",
     "text": [
      "-0.3565784955250653 -0.06567075332715429\n",
      "0.12495457187725796\n"
     ]
    },
    {
     "data": {
      "image/png": "[encoded data removed]",
      "text/plain": [
       "<Figure size 432x288 with 1 Axes>"
      ]
     },
     "metadata": {},
     "output_type": "display_data"
    }
   ],
   "source": [
    "\n",
    "# Ajuste de la recta\n",
    "\n",
    "datox=np.array(list(Porc.keys()))\n",
    "datoy=np.array(list(Porc.values()))\n",
    "\n",
    "fitfunc = lambda p, x: p[0] + x* p[1] \n",
    "errfunc = lambda p, x, y: (y - fitfunc(p, x)) \n",
    "\n",
    "pinit = [1, 1]\n",
    "out = optimize.leastsq(errfunc, pinit,  args=(datox,datoy), full_output=1)\n",
    "pfinal = out[0]\n",
    "\n",
    "rms = np.sqrt(np.mean(errfunc(pfinal,datox,datoy)**2))\n",
    "\n",
    "print(pfinal[0],pfinal[1])\n",
    "print(rms)\n",
    "\n",
    "recta=[fitfunc(pfinal,x) for x in datox ]\n",
    "\n",
    "plt.clf()\n",
    "plt.plot(datox,datoy,'bo')\n",
    "plt.plot(datox, recta)     # Fit\n",
    "plt.xlabel(\"conectividad de proteínas(k)\",fontsize = 15)\n",
    "plt.ylabel('$ln(1-P_E)$', fontsize = 15)\n",
    "#plt.anotate(poner el valor del Ln,r y p)\n",
    "plt.show()"
   ]
  },
  {
   "cell_type": "code",
   "execution_count": 47,
   "metadata": {},
   "outputs": [
    {
     "data": {
      "image/png": "[encoded data removed]",
      "text/plain": [
       "<Figure size 432x288 with 1 Axes>"
      ]
     },
     "metadata": {},
     "output_type": "display_data"
    }
   ],
   "source": [
    "# Figura 2b  de HE (2006)\n",
    "\n",
    "Grafo=G3.copy()\n",
    "HEnorm={}\n",
    "HEessencial={}\n",
    "for nodo in Grafo.nodes():\n",
    "    grado=Grafo.degree(nodo)\n",
    "    if grado<11:\n",
    "        try:\n",
    "            HEnorm[grado]+=1\n",
    "        except:\n",
    "            HEnorm[grado]=1\n",
    "\n",
    "        if nodo in essential:\n",
    "            try:\n",
    "                HEessencial[grado]+=1\n",
    "            except:\n",
    "                HEessencial[grado]=1\n",
    "\n",
    "Porc={}\n",
    "for i in sorted(HEnorm.keys()):\n",
    "    try:\n",
    "        Porc[i]=log(1-(HEessencial[i]/HEnorm[i]))\n",
    "    except:\n",
    "        Porc[i]=log(1)\n",
    "plt.plot(list(Porc.keys()),list(Porc.values()),'bo')\n",
    "plt.show()"
   ]
  },
  {
   "cell_type": "code",
   "execution_count": 48,
   "metadata": {},
   "outputs": [
    {
     "name": "stdout",
     "output_type": "stream",
     "text": [
      "-0.2010985669614651 -0.01476431875782036\n",
      "0.08853312790810401\n"
     ]
    },
    {
     "data": {
      "image/png": "[encoded data removed]",
      "text/plain": [
       "<Figure size 432x288 with 1 Axes>"
      ]
     },
     "metadata": {},
     "output_type": "display_data"
    }
   ],
   "source": [
    "\n",
    "# Ajuste de la recta\n",
    "\n",
    "datox=np.array(list(Porc.keys()))\n",
    "datoy=np.array(list(Porc.values()))\n",
    "\n",
    "fitfunc = lambda p, x: p[0] + x* p[1] \n",
    "errfunc = lambda p, x, y: (y - fitfunc(p, x)) \n",
    "\n",
    "pinit = [1, 1]\n",
    "out = optimize.leastsq(errfunc, pinit,  args=(datox,datoy), full_output=1)\n",
    "pfinal = out[0]\n",
    "\n",
    "rms = np.sqrt(np.mean(errfunc(pfinal,datox,datoy)**2))\n",
    "\n",
    "print(pfinal[0],pfinal[1])\n",
    "print(rms)\n",
    "\n",
    "recta=[fitfunc(pfinal,x) for x in datox ]\n",
    "\n",
    "plt.clf()\n",
    "plt.plot(datox,datoy,'bo')\n",
    "plt.plot(datox, recta)     # Fit\n",
    "plt.xlabel(\"conectividad de proteínas(k)\",fontsize = 15)\n",
    "plt.ylabel('$ln(1-P_E)$', fontsize = 15)\n",
    "#plt.anotate(poner el valor del Ln,r y p)\n",
    "plt.show()"
   ]
  },
  {
   "cell_type": "code",
   "execution_count": 49,
   "metadata": {},
   "outputs": [
    {
     "data": {
      "image/png": "[encoded data removed]",
      "text/plain": [
       "<Figure size 432x288 with 1 Axes>"
      ]
     },
     "metadata": {},
     "output_type": "display_data"
    }
   ],
   "source": [
    "# Figura 2b  de HE (2006)\n",
    "\n",
    "Grafo=G4.copy()\n",
    "HEnorm={}\n",
    "HEessencial={}\n",
    "for nodo in Grafo.nodes():\n",
    "    grado=Grafo.degree(nodo)\n",
    "    if grado<11:\n",
    "        try:\n",
    "            HEnorm[grado]+=1\n",
    "        except:\n",
    "            HEnorm[grado]=1\n",
    "\n",
    "        if nodo in essential:\n",
    "            try:\n",
    "                HEessencial[grado]+=1\n",
    "            except:\n",
    "                HEessencial[grado]=1\n",
    "\n",
    "Porc={}\n",
    "for i in sorted(HEnorm.keys()):\n",
    "    try:\n",
    "        Porc[i]=log(1-(HEessencial[i]/HEnorm[i]))\n",
    "    except:\n",
    "        Porc[i]=log(1)\n",
    "plt.plot(list(Porc.keys()),list(Porc.values()),'bo')\n",
    "plt.show()"
   ]
  },
  {
   "cell_type": "code",
   "execution_count": 50,
   "metadata": {},
   "outputs": [
    {
     "name": "stdout",
     "output_type": "stream",
     "text": [
      "-0.043769407910835056 -0.05420421216918925\n",
      "0.048158638288934706\n"
     ]
    },
    {
     "data": {
      "image/png": "[encoded data removed]",
      "text/plain": [
       "<Figure size 432x288 with 1 Axes>"
      ]
     },
     "metadata": {},
     "output_type": "display_data"
    }
   ],
   "source": [
    "\n",
    "# Ajuste de la recta\n",
    "\n",
    "datox=np.array(list(Porc.keys()))\n",
    "datoy=np.array(list(Porc.values()))\n",
    "\n",
    "fitfunc = lambda p, x: p[0] + x* p[1] \n",
    "errfunc = lambda p, x, y: (y - fitfunc(p, x)) \n",
    "\n",
    "pinit = [1, 1]\n",
    "out = optimize.leastsq(errfunc, pinit,  args=(datox,datoy), full_output=1)\n",
    "pfinal = out[0]\n",
    "\n",
    "rms = np.sqrt(np.mean(errfunc(pfinal,datox,datoy)**2))\n",
    "\n",
    "print(pfinal[0],pfinal[1])\n",
    "print(rms)\n",
    "\n",
    "recta=[fitfunc(pfinal,x) for x in datox ]\n",
    "\n",
    "plt.clf()\n",
    "plt.plot(datox,datoy,'bo')\n",
    "plt.plot(datox, recta)     # Fit\n",
    "plt.xlabel(\"conectividad de proteínas(k)\",fontsize = 15)\n",
    "plt.ylabel('$ln(1-P_E)$', fontsize = 15)\n",
    "#plt.anotate(poner el valor del Ln,r y p)\n",
    "plt.show()"
   ]
  },
  {
   "cell_type": "code",
   "execution_count": 40,
   "metadata": {
    "collapsed": true
   },
   "outputs": [],
   "source": [
    "## Tabla 3 Zotenco (2008)"
   ]
  },
  {
   "cell_type": "code",
   "execution_count": 56,
   "metadata": {},
   "outputs": [],
   "source": [
    "def gradoesencial(Grafo,essential):\n",
    "        G=Grafo.copy()\n",
    "        tamaño=np.max(list(dict(G.degree()).values()))\n",
    "        gradosdeesencial={}\n",
    "        for i in range(tamaño+1):\n",
    "                gradosdeesencial[i]=0\n",
    "\n",
    "        for nodo in G.nodes():\n",
    "            if nodo in essential:\n",
    "                gradosdeesencial[G.degree[nodo]]+=1\n",
    "    \n",
    "        return gradosdeesencial\n",
    "\n",
    "\n",
    "\n",
    "def seleccionar(Grafo,essential,gradosdeesencial):\n",
    "        G=Grafo.copy()\n",
    "        listadeseleccion=[]\n",
    "\n",
    "        diccionariodegrados=dict(G.degree())\n",
    "\n",
    "        for gradoorden in gradosdeesencial.keys():\n",
    "                listaseleccionadaporgrados=[]\n",
    "                listaparaagregar=[]\n",
    "                for nodos,grados in diccionariodegrados.items():\n",
    "                        if grados==gradoorden:\n",
    "                                listaseleccionadaporgrados.append(nodos)\n",
    "                listaparaagregar=random.sample(listaseleccionadaporgrados,gradosdeesencial[gradoorden])\n",
    "                listadeseleccion.extend(listaparaagregar)\n",
    "        return listadeseleccion"
   ]
  },
  {
   "cell_type": "code",
   "execution_count": 57,
   "metadata": {},
   "outputs": [],
   "source": [
    "def randomcongrado(grafo,essential):\n",
    "    randomlist=[]\n",
    "    for i in np.arange(100):\n",
    "        gradoesencial1=gradoesencial(grafo,essential)\n",
    "        lista=seleccionar(grafo,essential,gradoesencial1)\n",
    "        f,reslista,cant= vulnerabilityessential(grafo,lista)\n",
    "        randomlist.append(reslista)\n",
    "    M = np.mean(randomlist)\n",
    "    S = np.std(randomlist)\n",
    "    return M,S"
   ]
  },
  {
   "cell_type": "code",
   "execution_count": 58,
   "metadata": {},
   "outputs": [],
   "source": [
    "i=0\n",
    "ESSENTIAL=[0]*4\n",
    "MEAN=[0]*4\n",
    "STD=[0]*4\n",
    "for grafo in grafos:\n",
    "    f,ESSENTIAL[i],cant= vulnerabilityessential(grafo,essential)\n",
    "    MEAN[i],STD[i]=randomcongrado(grafo,essential)\n",
    "    i+=1"
   ]
  },
  {
   "cell_type": "code",
   "execution_count": 59,
   "metadata": {},
   "outputs": [
    {
     "data": {
      "text/plain": [
       "[0.029038986222306624,\n",
       " 0.028729809291661183,\n",
       " 0.008484207244649256,\n",
       " 0.009677821568092026]"
      ]
     },
     "execution_count": 59,
     "metadata": {},
     "output_type": "execute_result"
    }
   ],
   "source": [
    "STD"
   ]
  },
  {
   "cell_type": "code",
   "execution_count": 60,
   "metadata": {},
   "outputs": [],
   "source": [
    "Tabla3= pd.DataFrame({\"ID\":['apms','YID_lit','y2h','lit_reg'],\"essential\":ESSENTIAL,\"random\":MEAN,\"error\":STD})"
   ]
  },
  {
   "cell_type": "code",
   "execution_count": 61,
   "metadata": {},
   "outputs": [
    {
     "name": "stdout",
     "output_type": "stream",
     "text": [
      "        ID  essential    random     error\n",
      "0     apms   0.200370  0.212355  0.029039\n",
      "1  YID_lit   0.222005  0.080371  0.028730\n",
      "2      y2h   0.509415  0.485813  0.008484\n",
      "3  lit_reg   0.560629  0.513995  0.009678\n"
     ]
    }
   ],
   "source": [
    "print(Tabla3)"
   ]
  },
  {
   "cell_type": "code",
   "execution_count": 70,
   "metadata": {},
   "outputs": [],
   "source": [
    "def pareslejano(grafo):\n",
    "    G=grafo.copy()\n",
    "    listadeenlaces=[]\n",
    "    for nodo in G.nodes():\n",
    "        for nodo2 in G.nodes():\n",
    "            vecinos=list(G.adj[nodo])\n",
    "            vecinos2=list(G.adj[nodo2])\n",
    "            interseccion=list(set(vecinos) & set(vecinos2)-set(nodo)-set(nodo2))\n",
    "            if (nodo2!=nodo) & (nodo2 not in vecinos) & (len(interseccion)>2):\n",
    "                nuevalista=(nodo,nodo2)\n",
    "                listadeenlaces.append(nuevalista)\n",
    "    return listadeenlaces"
   ]
  },
  {
   "cell_type": "code",
   "execution_count": 71,
   "metadata": {},
   "outputs": [],
   "source": [
    "listadeenlacesi=[]\n",
    "for i in np.arange(4):\n",
    "    listadeenlacesi.append(pareslejano(grafos[i]))"
   ]
  },
  {
   "cell_type": "code",
   "execution_count": 87,
   "metadata": {},
   "outputs": [],
   "source": [
    "numerototal=[len(listadeenlacesi[0]),len(listadeenlacesi[1]),len(listadeenlacesi[2]),len(listadeenlacesi[3])]"
   ]
  },
  {
   "cell_type": "code",
   "execution_count": 85,
   "metadata": {},
   "outputs": [],
   "source": [
    "def paresiguales(listadeenlaces,i,essential):\n",
    "    G=grafo.copy()\n",
    "    lista=listadeenlaces[i]\n",
    "    paresenesencial=[]\n",
    "    for j in lista:\n",
    "        if ((j[0] in essential)&(j[1] in essential))|((j[0] not in essential)&(j[1] not in essential)):\n",
    "            paresenesencial.append(j)\n",
    "    return paresenesencial"
   ]
  },
  {
   "cell_type": "code",
   "execution_count": 86,
   "metadata": {},
   "outputs": [],
   "source": [
    "paresigualesi=[]\n",
    "for i in np.arange(4):\n",
    "    paresigualesi.append(paresiguales(listadeenlacesi,i,essential))"
   ]
  },
  {
   "cell_type": "code",
   "execution_count": 88,
   "metadata": {},
   "outputs": [],
   "source": [
    "numerodelmismotipo=[len(paresigualesi[0]),len(paresigualesi[1]),len(paresigualesi[2]),len(paresigualesi[3])]"
   ]
  },
  {
   "cell_type": "code",
   "execution_count": null,
   "metadata": {},
   "outputs": [],
   "source": []
  }
 ],
 "metadata": {
  "kernelspec": {
   "display_name": "Python 3",
   "language": "python",
   "name": "python3"
  },
  "language_info": {
   "codemirror_mode": {
    "name": "ipython",
    "version": 3
   },
   "file_extension": ".py",
   "mimetype": "text/x-python",
   "name": "python",
   "nbconvert_exporter": "python",
   "pygments_lexer": "ipython3",
   "version": "3.6.5"
  }
 },
 "nbformat": 4,
 "nbformat_minor": 2
}
